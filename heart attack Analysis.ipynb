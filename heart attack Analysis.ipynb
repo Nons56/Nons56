{
 "cells": [
  {
   "cell_type": "code",
   "execution_count": 4,
   "id": "532cc014-5219-4516-ab56-60b5b881b08f",
   "metadata": {},
   "outputs": [],
   "source": [
    "import pandas as pd\n",
    "import matplotlib.pyplot as plt\n",
    "import plotly.express as px"
   ]
  },
  {
   "cell_type": "code",
   "execution_count": 6,
   "id": "f5b2bdfe-0e0b-438a-a742-b8a14a9f8568",
   "metadata": {},
   "outputs": [],
   "source": [
    "df = pd.read_csv(r'Downloads/heart_attack_indonesia.csv')"
   ]
  },
  {
   "cell_type": "code",
   "execution_count": 8,
   "id": "e32c088a-89a6-40c5-b6d1-7921d240d3c7",
   "metadata": {},
   "outputs": [
    {
     "data": {
      "text/plain": [
       "(170501, 25)"
      ]
     },
     "execution_count": 8,
     "metadata": {},
     "output_type": "execute_result"
    }
   ],
   "source": [
    "df.shape "
   ]
  },
  {
   "cell_type": "code",
   "execution_count": 120,
   "id": "9a766c01-c116-4473-a537-74cc8be2d810",
   "metadata": {
    "scrolled": true
   },
   "outputs": [
    {
     "name": "stdout",
     "output_type": "stream",
     "text": [
      "<class 'pandas.core.frame.DataFrame'>\n",
      "Index: 113873 entries, 1 to 170499\n",
      "Data columns (total 39 columns):\n",
      " #   Column                     Non-Null Count   Dtype  \n",
      "---  ------                     --------------   -----  \n",
      " 0   ID                         113873 non-null  int64  \n",
      " 1   Age                        113873 non-null  int32  \n",
      " 2   HeartAttack                113873 non-null  object \n",
      " 3   Gender                     113873 non-null  object \n",
      " 4   Cholesterol                113873 non-null  int64  \n",
      " 5   SmokingHabits              113873 non-null  object \n",
      " 6   PhysicalActivity           113873 non-null  object \n",
      " 7   BMI                        113873 non-null  float64\n",
      " 8   Hypertension               113873 non-null  object \n",
      " 9   Diabetes                   113873 non-null  object \n",
      " 10  AlcoholConsumption         113873 non-null  object \n",
      " 11  DietType                   113873 non-null  object \n",
      " 12  OccupationType             113873 non-null  object \n",
      " 13  StressLevel                113873 non-null  object \n",
      " 14  EducationLevel             113873 non-null  object \n",
      " 15  MaritalStatus              113873 non-null  object \n",
      " 16  FamilyHistoryHeartDisease  113873 non-null  object \n",
      " 17  IncomeLevel                113873 non-null  object \n",
      " 18  HealthcareAccess           113873 non-null  object \n",
      " 19  SleepHours                 113873 non-null  float64\n",
      " 20  UrbanOrRural               113873 non-null  object \n",
      " 21  AirQualityIndex            113873 non-null  int64  \n",
      " 22  PollutionLevel             113873 non-null  object \n",
      " 23  EmploymentStatus           113873 non-null  object \n",
      " 24  State_bali                 113873 non-null  bool   \n",
      " 25  State_balikpapan           113873 non-null  bool   \n",
      " 26  State_bandung              113873 non-null  bool   \n",
      " 27  State_batam                113873 non-null  bool   \n",
      " 28  State_denpasar             113873 non-null  bool   \n",
      " 29  State_jakarta              113873 non-null  bool   \n",
      " 30  State_makassar             113873 non-null  bool   \n",
      " 31  State_malang               113873 non-null  bool   \n",
      " 32  State_medan                113873 non-null  bool   \n",
      " 33  State_palembang            113873 non-null  bool   \n",
      " 34  State_pekanbaru            113873 non-null  bool   \n",
      " 35  State_pontianak            113873 non-null  bool   \n",
      " 36  State_semarang             113873 non-null  bool   \n",
      " 37  State_surabaya             113873 non-null  bool   \n",
      " 38  State_yogyakarta           113873 non-null  bool   \n",
      "dtypes: bool(15), float64(2), int32(1), int64(3), object(18)\n",
      "memory usage: 22.9+ MB\n"
     ]
    }
   ],
   "source": [
    "df.info()"
   ]
  },
  {
   "cell_type": "code",
   "execution_count": 122,
   "id": "bead4af3-4fc4-4fde-9b47-150456e67ac4",
   "metadata": {
    "scrolled": true
   },
   "outputs": [
    {
     "data": {
      "text/plain": [
       "<bound method NDFrame.head of             ID  Age HeartAttack  Gender  Cholesterol SmokingHabits  \\\n",
       "1            2   15         Yes  Female          201    Non-smoker   \n",
       "3            4   31          No    Male          287        Smoker   \n",
       "5            6   34          No  Female          195    Non-smoker   \n",
       "6            7   24          No    Male          193        Smoker   \n",
       "7            8   60          No  Female          170        Smoker   \n",
       "...        ...  ...         ...     ...          ...           ...   \n",
       "170494  170495   25         Yes    Male          180    Non-smoker   \n",
       "170495  170496   47          No    Male          245    Non-smoker   \n",
       "170496  170497   23          No    Male          295        Smoker   \n",
       "170497  170498   25         Yes    Male          172    Non-smoker   \n",
       "170499  170500   57          No    Male          150        Smoker   \n",
       "\n",
       "       PhysicalActivity   BMI Hypertension Diabetes  ... State_jakarta  \\\n",
       "1                  High  26.9           No      Yes  ...         False   \n",
       "3              Moderate  19.4           No       No  ...         False   \n",
       "5              Moderate  22.8          Yes       No  ...         False   \n",
       "6              Moderate  21.7           No      Yes  ...         False   \n",
       "7                  High  25.4          Yes       No  ...         False   \n",
       "...                 ...   ...          ...      ...  ...           ...   \n",
       "170494         Moderate  23.2           No       No  ...         False   \n",
       "170495         Moderate  25.8          Yes       No  ...         False   \n",
       "170496             High  33.6           No       No  ...         False   \n",
       "170497         Moderate  20.1          Yes       No  ...         False   \n",
       "170499             High  29.4           No       No  ...         False   \n",
       "\n",
       "       State_makassar State_malang State_medan State_palembang  \\\n",
       "1                True        False       False           False   \n",
       "3               False         True       False           False   \n",
       "5               False        False       False           False   \n",
       "6               False        False       False           False   \n",
       "7               False        False       False           False   \n",
       "...               ...          ...         ...             ...   \n",
       "170494          False        False       False           False   \n",
       "170495          False        False        True           False   \n",
       "170496          False        False       False           False   \n",
       "170497          False         True       False           False   \n",
       "170499          False        False       False           False   \n",
       "\n",
       "       State_pekanbaru State_pontianak State_semarang State_surabaya  \\\n",
       "1                False           False          False          False   \n",
       "3                False           False          False          False   \n",
       "5                False           False          False          False   \n",
       "6                False           False          False           True   \n",
       "7                False           False          False          False   \n",
       "...                ...             ...            ...            ...   \n",
       "170494           False           False           True          False   \n",
       "170495           False           False          False          False   \n",
       "170496           False           False           True          False   \n",
       "170497           False           False          False          False   \n",
       "170499           False           False          False          False   \n",
       "\n",
       "        State_yogyakarta  \n",
       "1                  False  \n",
       "3                  False  \n",
       "5                  False  \n",
       "6                  False  \n",
       "7                  False  \n",
       "...                  ...  \n",
       "170494             False  \n",
       "170495             False  \n",
       "170496             False  \n",
       "170497             False  \n",
       "170499             False  \n",
       "\n",
       "[113873 rows x 39 columns]>"
      ]
     },
     "execution_count": 122,
     "metadata": {},
     "output_type": "execute_result"
    }
   ],
   "source": [
    "df.head"
   ]
  },
  {
   "cell_type": "code",
   "execution_count": 124,
   "id": "c33c242a-39fe-4c64-868c-f3b14eaba5f8",
   "metadata": {
    "scrolled": true
   },
   "outputs": [
    {
     "name": "stdout",
     "output_type": "stream",
     "text": [
      "            ID  Age HeartAttack  Gender  Cholesterol SmokingHabits  \\\n",
      "1            2   15         Yes  Female          201    Non-smoker   \n",
      "3            4   31          No    Male          287        Smoker   \n",
      "5            6   34          No  Female          195    Non-smoker   \n",
      "6            7   24          No    Male          193        Smoker   \n",
      "7            8   60          No  Female          170        Smoker   \n",
      "...        ...  ...         ...     ...          ...           ...   \n",
      "170494  170495   25         Yes    Male          180    Non-smoker   \n",
      "170495  170496   47          No    Male          245    Non-smoker   \n",
      "170496  170497   23          No    Male          295        Smoker   \n",
      "170497  170498   25         Yes    Male          172    Non-smoker   \n",
      "170499  170500   57          No    Male          150        Smoker   \n",
      "\n",
      "       PhysicalActivity   BMI Hypertension Diabetes  ... State_jakarta  \\\n",
      "1                  High  26.9           No      Yes  ...         False   \n",
      "3              Moderate  19.4           No       No  ...         False   \n",
      "5              Moderate  22.8          Yes       No  ...         False   \n",
      "6              Moderate  21.7           No      Yes  ...         False   \n",
      "7                  High  25.4          Yes       No  ...         False   \n",
      "...                 ...   ...          ...      ...  ...           ...   \n",
      "170494         Moderate  23.2           No       No  ...         False   \n",
      "170495         Moderate  25.8          Yes       No  ...         False   \n",
      "170496             High  33.6           No       No  ...         False   \n",
      "170497         Moderate  20.1          Yes       No  ...         False   \n",
      "170499             High  29.4           No       No  ...         False   \n",
      "\n",
      "       State_makassar State_malang State_medan State_palembang  \\\n",
      "1                True        False       False           False   \n",
      "3               False         True       False           False   \n",
      "5               False        False       False           False   \n",
      "6               False        False       False           False   \n",
      "7               False        False       False           False   \n",
      "...               ...          ...         ...             ...   \n",
      "170494          False        False       False           False   \n",
      "170495          False        False        True           False   \n",
      "170496          False        False       False           False   \n",
      "170497          False         True       False           False   \n",
      "170499          False        False       False           False   \n",
      "\n",
      "       State_pekanbaru State_pontianak State_semarang State_surabaya  \\\n",
      "1                False           False          False          False   \n",
      "3                False           False          False          False   \n",
      "5                False           False          False          False   \n",
      "6                False           False          False           True   \n",
      "7                False           False          False          False   \n",
      "...                ...             ...            ...            ...   \n",
      "170494           False           False           True          False   \n",
      "170495           False           False          False          False   \n",
      "170496           False           False           True          False   \n",
      "170497           False           False          False          False   \n",
      "170499           False           False          False          False   \n",
      "\n",
      "        State_yogyakarta  \n",
      "1                  False  \n",
      "3                  False  \n",
      "5                  False  \n",
      "6                  False  \n",
      "7                  False  \n",
      "...                  ...  \n",
      "170494             False  \n",
      "170495             False  \n",
      "170496             False  \n",
      "170497             False  \n",
      "170499             False  \n",
      "\n",
      "[113873 rows x 39 columns]\n"
     ]
    }
   ],
   "source": [
    "# Remove duplicates\n",
    "df = df.drop_duplicates()\n",
    "print(df)"
   ]
  },
  {
   "cell_type": "code",
   "execution_count": 36,
   "id": "59ef7e1d-02a7-4541-a1c5-f040f7856fe7",
   "metadata": {
    "scrolled": true
   },
   "outputs": [
    {
     "name": "stdout",
     "output_type": "stream",
     "text": [
      "            ID     State  Age HeartAttack  Gender  Cholesterol SmokingHabits  \\\n",
      "1            2  Makassar   15         Yes  Female          201    Non-smoker   \n",
      "3            4    Malang   31          No    Male          287        Smoker   \n",
      "5            6      Bali   34          No  Female          195    Non-smoker   \n",
      "6            7  Surabaya   24          No    Male          193        Smoker   \n",
      "7            8   Bandung   60          No  Female          170        Smoker   \n",
      "...        ...       ...  ...         ...     ...          ...           ...   \n",
      "170494  170495  Semarang   25         Yes    Male          180    Non-smoker   \n",
      "170495  170496     Medan   47          No    Male          245    Non-smoker   \n",
      "170496  170497  Semarang   23          No    Male          295        Smoker   \n",
      "170497  170498    Malang   25         Yes    Male          172    Non-smoker   \n",
      "170499  170500   Bandung   57          No    Male          150        Smoker   \n",
      "\n",
      "       PhysicalActivity   BMI Hypertension  ... EducationLevel MaritalStatus  \\\n",
      "1                  High  26.9           No  ...      Secondary       Married   \n",
      "3              Moderate  19.4           No  ...         Higher        Single   \n",
      "5              Moderate  22.8          Yes  ...         Higher        Single   \n",
      "6              Moderate  21.7           No  ...      Secondary        Single   \n",
      "7                  High  25.4          Yes  ...      Secondary        Single   \n",
      "...                 ...   ...          ...  ...            ...           ...   \n",
      "170494         Moderate  23.2           No  ...        Primary        Single   \n",
      "170495         Moderate  25.8          Yes  ...         Higher       Married   \n",
      "170496             High  33.6           No  ...         Higher       Married   \n",
      "170497         Moderate  20.1          Yes  ...         Higher       Married   \n",
      "170499             High  29.4           No  ...        Primary        Single   \n",
      "\n",
      "       FamilyHistoryHeartDisease IncomeLevel HealthcareAccess SleepHours  \\\n",
      "1                             No      Middle          Average        8.5   \n",
      "3                            Yes      Middle             Good        4.8   \n",
      "5                             No         Low             Poor        5.6   \n",
      "6                             No         Low             Poor        6.0   \n",
      "7                             No      Middle             Poor        6.1   \n",
      "...                          ...         ...              ...        ...   \n",
      "170494                       Yes      Middle             Poor        4.0   \n",
      "170495                       Yes      Middle             Poor        8.9   \n",
      "170496                       Yes        High             Good        7.6   \n",
      "170497                        No        High             Poor        4.5   \n",
      "170499                        No         Low          Average        6.4   \n",
      "\n",
      "       UrbanOrRural AirQualityIndex PollutionLevel EmploymentStatus  \n",
      "1             Urban             266       Moderate       Unemployed  \n",
      "3             Rural              64           High       Unemployed  \n",
      "5             Rural              53            Low         Employed  \n",
      "6             Rural             281       Moderate       Unemployed  \n",
      "7             Rural             184           High         Employed  \n",
      "...             ...             ...            ...              ...  \n",
      "170494        Urban             171       Moderate       Unemployed  \n",
      "170495        Urban              67       Moderate         Employed  \n",
      "170496        Rural              52       Moderate         Employed  \n",
      "170497        Rural             248            Low         Employed  \n",
      "170499        Rural             207            Low         Employed  \n",
      "\n",
      "[113873 rows x 25 columns]\n"
     ]
    }
   ],
   "source": [
    "df = df.dropna()\n",
    "print(df)"
   ]
  },
  {
   "cell_type": "code",
   "execution_count": 116,
   "id": "fa17108f-9907-441a-9489-b814ca975363",
   "metadata": {
    "scrolled": true
   },
   "outputs": [
    {
     "name": "stdout",
     "output_type": "stream",
     "text": [
      "            ID  Age HeartAttack  Gender  Cholesterol SmokingHabits  \\\n",
      "1            2   15         Yes  Female          201    Non-smoker   \n",
      "3            4   31          No    Male          287        Smoker   \n",
      "5            6   34          No  Female          195    Non-smoker   \n",
      "6            7   24          No    Male          193        Smoker   \n",
      "7            8   60          No  Female          170        Smoker   \n",
      "...        ...  ...         ...     ...          ...           ...   \n",
      "170494  170495   25         Yes    Male          180    Non-smoker   \n",
      "170495  170496   47          No    Male          245    Non-smoker   \n",
      "170496  170497   23          No    Male          295        Smoker   \n",
      "170497  170498   25         Yes    Male          172    Non-smoker   \n",
      "170499  170500   57          No    Male          150        Smoker   \n",
      "\n",
      "       PhysicalActivity   BMI Hypertension Diabetes  ... State_jakarta  \\\n",
      "1                  High  26.9           No      Yes  ...         False   \n",
      "3              Moderate  19.4           No       No  ...         False   \n",
      "5              Moderate  22.8          Yes       No  ...         False   \n",
      "6              Moderate  21.7           No      Yes  ...         False   \n",
      "7                  High  25.4          Yes       No  ...         False   \n",
      "...                 ...   ...          ...      ...  ...           ...   \n",
      "170494         Moderate  23.2           No       No  ...         False   \n",
      "170495         Moderate  25.8          Yes       No  ...         False   \n",
      "170496             High  33.6           No       No  ...         False   \n",
      "170497         Moderate  20.1          Yes       No  ...         False   \n",
      "170499             High  29.4           No       No  ...         False   \n",
      "\n",
      "       State_makassar State_malang State_medan State_palembang  \\\n",
      "1                True        False       False           False   \n",
      "3               False         True       False           False   \n",
      "5               False        False       False           False   \n",
      "6               False        False       False           False   \n",
      "7               False        False       False           False   \n",
      "...               ...          ...         ...             ...   \n",
      "170494          False        False       False           False   \n",
      "170495          False        False        True           False   \n",
      "170496          False        False       False           False   \n",
      "170497          False         True       False           False   \n",
      "170499          False        False       False           False   \n",
      "\n",
      "       State_pekanbaru State_pontianak State_semarang State_surabaya  \\\n",
      "1                False           False          False          False   \n",
      "3                False           False          False          False   \n",
      "5                False           False          False          False   \n",
      "6                False           False          False           True   \n",
      "7                False           False          False          False   \n",
      "...                ...             ...            ...            ...   \n",
      "170494           False           False           True          False   \n",
      "170495           False           False          False          False   \n",
      "170496           False           False           True          False   \n",
      "170497           False           False          False          False   \n",
      "170499           False           False          False          False   \n",
      "\n",
      "        State_yogyakarta  \n",
      "1                  False  \n",
      "3                  False  \n",
      "5                  False  \n",
      "6                  False  \n",
      "7                  False  \n",
      "...                  ...  \n",
      "170494             False  \n",
      "170495             False  \n",
      "170496             False  \n",
      "170497             False  \n",
      "170499             False  \n",
      "\n",
      "[113873 rows x 39 columns]\n"
     ]
    }
   ],
   "source": [
    "# Convert data type of a column\n",
    "df['Age'] = df['Age'].astype(int)\n",
    "print(df)\n"
   ]
  },
  {
   "cell_type": "code",
   "execution_count": 40,
   "id": "be2b8990-000b-4148-a6c8-74ab2ed335b5",
   "metadata": {},
   "outputs": [
    {
     "name": "stdout",
     "output_type": "stream",
     "text": [
      "            ID     State  Age HeartAttack  Gender  Cholesterol SmokingHabits  \\\n",
      "1            2  makassar   15         Yes  Female          201    Non-smoker   \n",
      "3            4    malang   31          No    Male          287        Smoker   \n",
      "5            6      bali   34          No  Female          195    Non-smoker   \n",
      "6            7  surabaya   24          No    Male          193        Smoker   \n",
      "7            8   bandung   60          No  Female          170        Smoker   \n",
      "...        ...       ...  ...         ...     ...          ...           ...   \n",
      "170494  170495  semarang   25         Yes    Male          180    Non-smoker   \n",
      "170495  170496     medan   47          No    Male          245    Non-smoker   \n",
      "170496  170497  semarang   23          No    Male          295        Smoker   \n",
      "170497  170498    malang   25         Yes    Male          172    Non-smoker   \n",
      "170499  170500   bandung   57          No    Male          150        Smoker   \n",
      "\n",
      "       PhysicalActivity   BMI Hypertension  ... EducationLevel MaritalStatus  \\\n",
      "1                  High  26.9           No  ...      Secondary       Married   \n",
      "3              Moderate  19.4           No  ...         Higher        Single   \n",
      "5              Moderate  22.8          Yes  ...         Higher        Single   \n",
      "6              Moderate  21.7           No  ...      Secondary        Single   \n",
      "7                  High  25.4          Yes  ...      Secondary        Single   \n",
      "...                 ...   ...          ...  ...            ...           ...   \n",
      "170494         Moderate  23.2           No  ...        Primary        Single   \n",
      "170495         Moderate  25.8          Yes  ...         Higher       Married   \n",
      "170496             High  33.6           No  ...         Higher       Married   \n",
      "170497         Moderate  20.1          Yes  ...         Higher       Married   \n",
      "170499             High  29.4           No  ...        Primary        Single   \n",
      "\n",
      "       FamilyHistoryHeartDisease IncomeLevel HealthcareAccess SleepHours  \\\n",
      "1                             No      Middle          Average        8.5   \n",
      "3                            Yes      Middle             Good        4.8   \n",
      "5                             No         Low             Poor        5.6   \n",
      "6                             No         Low             Poor        6.0   \n",
      "7                             No      Middle             Poor        6.1   \n",
      "...                          ...         ...              ...        ...   \n",
      "170494                       Yes      Middle             Poor        4.0   \n",
      "170495                       Yes      Middle             Poor        8.9   \n",
      "170496                       Yes        High             Good        7.6   \n",
      "170497                        No        High             Poor        4.5   \n",
      "170499                        No         Low          Average        6.4   \n",
      "\n",
      "       UrbanOrRural AirQualityIndex PollutionLevel EmploymentStatus  \n",
      "1             Urban             266       Moderate       Unemployed  \n",
      "3             Rural              64           High       Unemployed  \n",
      "5             Rural              53            Low         Employed  \n",
      "6             Rural             281       Moderate       Unemployed  \n",
      "7             Rural             184           High         Employed  \n",
      "...             ...             ...            ...              ...  \n",
      "170494        Urban             171       Moderate       Unemployed  \n",
      "170495        Urban              67       Moderate         Employed  \n",
      "170496        Rural              52       Moderate         Employed  \n",
      "170497        Rural             248            Low         Employed  \n",
      "170499        Rural             207            Low         Employed  \n",
      "\n",
      "[113873 rows x 25 columns]\n"
     ]
    }
   ],
   "source": [
    "# Convert text to lower case\n",
    "df['State'] = df['State'].str.lower()\n",
    "print(df)\n"
   ]
  },
  {
   "cell_type": "code",
   "execution_count": 106,
   "id": "76940615-5db0-4578-8c1b-f431d83a67c7",
   "metadata": {},
   "outputs": [],
   "source": [
    "#drop NaN values\n",
    "df.dropna(inplace=True)"
   ]
  },
  {
   "cell_type": "code",
   "execution_count": 42,
   "id": "6fadb0ee-f2f3-42b4-830a-e3e3536b7991",
   "metadata": {
    "scrolled": true
   },
   "outputs": [
    {
     "name": "stdout",
     "output_type": "stream",
     "text": [
      "            ID     State  Age HeartAttack  Gender  Cholesterol SmokingHabits  \\\n",
      "1            2  makassar   15         Yes  Female          201    Non-smoker   \n",
      "3            4    malang   31          No    Male          287        Smoker   \n",
      "5            6      bali   34          No  Female          195    Non-smoker   \n",
      "6            7  surabaya   24          No    Male          193        Smoker   \n",
      "7            8   bandung   60          No  Female          170        Smoker   \n",
      "...        ...       ...  ...         ...     ...          ...           ...   \n",
      "170494  170495  semarang   25         Yes    Male          180    Non-smoker   \n",
      "170495  170496     medan   47          No    Male          245    Non-smoker   \n",
      "170496  170497  semarang   23          No    Male          295        Smoker   \n",
      "170497  170498    malang   25         Yes    Male          172    Non-smoker   \n",
      "170499  170500   bandung   57          No    Male          150        Smoker   \n",
      "\n",
      "       PhysicalActivity   BMI Hypertension  ... MaritalStatus  \\\n",
      "1                  High  26.9           No  ...       Married   \n",
      "3              Moderate  19.4           No  ...        Single   \n",
      "5              Moderate  22.8          Yes  ...        Single   \n",
      "6              Moderate  21.7           No  ...        Single   \n",
      "7                  High  25.4          Yes  ...        Single   \n",
      "...                 ...   ...          ...  ...           ...   \n",
      "170494         Moderate  23.2           No  ...        Single   \n",
      "170495         Moderate  25.8          Yes  ...       Married   \n",
      "170496             High  33.6           No  ...       Married   \n",
      "170497         Moderate  20.1          Yes  ...       Married   \n",
      "170499             High  29.4           No  ...        Single   \n",
      "\n",
      "       FamilyHistoryHeartDisease IncomeLevel HealthcareAccess SleepHours  \\\n",
      "1                             No      Middle          Average        8.5   \n",
      "3                            Yes      Middle             Good        4.8   \n",
      "5                             No         Low             Poor        5.6   \n",
      "6                             No         Low             Poor        6.0   \n",
      "7                             No      Middle             Poor        6.1   \n",
      "...                          ...         ...              ...        ...   \n",
      "170494                       Yes      Middle             Poor        4.0   \n",
      "170495                       Yes      Middle             Poor        8.9   \n",
      "170496                       Yes        High             Good        7.6   \n",
      "170497                        No        High             Poor        4.5   \n",
      "170499                        No         Low          Average        6.4   \n",
      "\n",
      "       UrbanOrRural AirQualityIndex PollutionLevel EmploymentStatus   z_score  \n",
      "1             Urban             266       Moderate       Unemployed -1.703027  \n",
      "3             Rural              64           High       Unemployed -0.593065  \n",
      "5             Rural              53            Low         Employed -0.384947  \n",
      "6             Rural             281       Moderate       Unemployed -1.078673  \n",
      "7             Rural             184           High         Employed  1.418740  \n",
      "...             ...             ...            ...              ...       ...  \n",
      "170494        Urban             171       Moderate       Unemployed -1.009301  \n",
      "170495        Urban              67       Moderate         Employed  0.516897  \n",
      "170496        Rural              52       Moderate         Employed -1.148046  \n",
      "170497        Rural             248            Low         Employed -1.009301  \n",
      "170499        Rural             207            Low         Employed  1.210623  \n",
      "\n",
      "[113873 rows x 26 columns]\n"
     ]
    }
   ],
   "source": [
    "from scipy import stats\n",
    "\n",
    "# Calculate Z-scores\n",
    "df['z_score'] = stats.zscore(df['Age'])\n",
    "\n",
    "# Filter out outliers based on Z-score\n",
    "df = df[(df['z_score'] < 3) & (df['z_score'] > -3)]\n",
    "print(df)\n"
   ]
  },
  {
   "cell_type": "code",
   "execution_count": 110,
   "id": "d5a92f3b-97a3-4ccf-a322-c4e4a7ca2bad",
   "metadata": {},
   "outputs": [],
   "source": [
    "# One-hot encode categorical data\n",
    "#df = pd.get_dummies(df, columns=['State'])\n",
    "#print(df)\n"
   ]
  },
  {
   "cell_type": "code",
   "execution_count": 48,
   "id": "ba9240af-bdae-469f-9e4d-ffc8a62a96d1",
   "metadata": {},
   "outputs": [
    {
     "name": "stdout",
     "output_type": "stream",
     "text": [
      "There are duplicate ages in the dataset.\n"
     ]
    }
   ],
   "source": [
    "# Check for unique values in a column\n",
    "if df['Age'].nunique() != len(df):\n",
    "    print(\"There are duplicate ages in the dataset.\")\n"
   ]
  },
  {
   "cell_type": "code",
   "execution_count": 114,
   "id": "d575be4c-f85a-4dcd-afbb-c2c266c1d400",
   "metadata": {},
   "outputs": [
    {
     "data": {
      "text/html": [
       "<div>\n",
       "<style scoped>\n",
       "    .dataframe tbody tr th:only-of-type {\n",
       "        vertical-align: middle;\n",
       "    }\n",
       "\n",
       "    .dataframe tbody tr th {\n",
       "        vertical-align: top;\n",
       "    }\n",
       "\n",
       "    .dataframe thead th {\n",
       "        text-align: right;\n",
       "    }\n",
       "</style>\n",
       "<table border=\"1\" class=\"dataframe\">\n",
       "  <thead>\n",
       "    <tr style=\"text-align: right;\">\n",
       "      <th></th>\n",
       "      <th>ID</th>\n",
       "      <th>Age</th>\n",
       "      <th>Cholesterol</th>\n",
       "      <th>BMI</th>\n",
       "      <th>SleepHours</th>\n",
       "      <th>AirQualityIndex</th>\n",
       "    </tr>\n",
       "  </thead>\n",
       "  <tbody>\n",
       "    <tr>\n",
       "      <th>count</th>\n",
       "      <td>113873.000000</td>\n",
       "      <td>113873.000000</td>\n",
       "      <td>113873.000000</td>\n",
       "      <td>113873.000000</td>\n",
       "      <td>113873.000000</td>\n",
       "      <td>113873.000000</td>\n",
       "    </tr>\n",
       "    <tr>\n",
       "      <th>mean</th>\n",
       "      <td>85192.190475</td>\n",
       "      <td>39.548980</td>\n",
       "      <td>224.482643</td>\n",
       "      <td>26.505070</td>\n",
       "      <td>6.507410</td>\n",
       "      <td>174.650479</td>\n",
       "    </tr>\n",
       "    <tr>\n",
       "      <th>std</th>\n",
       "      <td>49284.141062</td>\n",
       "      <td>14.414976</td>\n",
       "      <td>43.193212</td>\n",
       "      <td>4.903292</td>\n",
       "      <td>1.442637</td>\n",
       "      <td>72.137688</td>\n",
       "    </tr>\n",
       "    <tr>\n",
       "      <th>min</th>\n",
       "      <td>2.000000</td>\n",
       "      <td>15.000000</td>\n",
       "      <td>150.000000</td>\n",
       "      <td>18.000000</td>\n",
       "      <td>4.000000</td>\n",
       "      <td>50.000000</td>\n",
       "    </tr>\n",
       "    <tr>\n",
       "      <th>25%</th>\n",
       "      <td>42413.000000</td>\n",
       "      <td>27.000000</td>\n",
       "      <td>187.000000</td>\n",
       "      <td>22.300000</td>\n",
       "      <td>5.300000</td>\n",
       "      <td>112.000000</td>\n",
       "    </tr>\n",
       "    <tr>\n",
       "      <th>50%</th>\n",
       "      <td>85168.000000</td>\n",
       "      <td>40.000000</td>\n",
       "      <td>224.000000</td>\n",
       "      <td>26.500000</td>\n",
       "      <td>6.500000</td>\n",
       "      <td>175.000000</td>\n",
       "    </tr>\n",
       "    <tr>\n",
       "      <th>75%</th>\n",
       "      <td>127979.000000</td>\n",
       "      <td>52.000000</td>\n",
       "      <td>262.000000</td>\n",
       "      <td>30.800000</td>\n",
       "      <td>7.800000</td>\n",
       "      <td>237.000000</td>\n",
       "    </tr>\n",
       "    <tr>\n",
       "      <th>max</th>\n",
       "      <td>170500.000000</td>\n",
       "      <td>64.000000</td>\n",
       "      <td>299.000000</td>\n",
       "      <td>35.000000</td>\n",
       "      <td>9.000000</td>\n",
       "      <td>299.000000</td>\n",
       "    </tr>\n",
       "  </tbody>\n",
       "</table>\n",
       "</div>"
      ],
      "text/plain": [
       "                  ID            Age    Cholesterol            BMI  \\\n",
       "count  113873.000000  113873.000000  113873.000000  113873.000000   \n",
       "mean    85192.190475      39.548980     224.482643      26.505070   \n",
       "std     49284.141062      14.414976      43.193212       4.903292   \n",
       "min         2.000000      15.000000     150.000000      18.000000   \n",
       "25%     42413.000000      27.000000     187.000000      22.300000   \n",
       "50%     85168.000000      40.000000     224.000000      26.500000   \n",
       "75%    127979.000000      52.000000     262.000000      30.800000   \n",
       "max    170500.000000      64.000000     299.000000      35.000000   \n",
       "\n",
       "          SleepHours  AirQualityIndex  \n",
       "count  113873.000000    113873.000000  \n",
       "mean        6.507410       174.650479  \n",
       "std         1.442637        72.137688  \n",
       "min         4.000000        50.000000  \n",
       "25%         5.300000       112.000000  \n",
       "50%         6.500000       175.000000  \n",
       "75%         7.800000       237.000000  \n",
       "max         9.000000       299.000000  "
      ]
     },
     "execution_count": 114,
     "metadata": {},
     "output_type": "execute_result"
    }
   ],
   "source": [
    "df.describe()"
   ]
  },
  {
   "cell_type": "code",
   "execution_count": 54,
   "id": "1f2d837a-a103-486c-9ce2-0c0b98d7bb3d",
   "metadata": {},
   "outputs": [
    {
     "name": "stdout",
     "output_type": "stream",
     "text": [
      "The average age of individuals who have had a heart attack is 39.55 years.\n"
     ]
    }
   ],
   "source": [
    "# Calculate the average age of individuals with heart attacks\n",
    "average_age = df['Age'].mean()\n",
    "\n",
    "print(f\"The average age of individuals who have had a heart attack is {average_age:.2f} years.\")\n"
   ]
  },
  {
   "cell_type": "code",
   "execution_count": 56,
   "id": "9f8bc5de-0099-466a-8512-e27fa7645058",
   "metadata": {},
   "outputs": [
    {
     "name": "stdout",
     "output_type": "stream",
     "text": [
      "The average cholesterol consumption in Indonesia is 224.48 mg/day.\n"
     ]
    }
   ],
   "source": [
    "average_cholesterol_consumption = df['Cholesterol'].mean()\n",
    "print(f\"The average cholesterol consumption in Indonesia is {average_cholesterol_consumption:.2f} mg/day.\")\n"
   ]
  },
  {
   "cell_type": "code",
   "execution_count": 60,
   "id": "b0d1a19f-04b1-4cd3-9854-d721981639ac",
   "metadata": {},
   "outputs": [
    {
     "data": {
      "image/png": "[encoded data removed]",
      "text/plain": [
       "<Figure size 640x480 with 1 Axes>"
      ]
     },
     "metadata": {},
     "output_type": "display_data"
    }
   ],
   "source": [
    "\n",
    "# Histogram of age distribution\n",
    "df['Age'].hist(bins=20)\n",
    "plt.xlabel('Age')\n",
    "plt.ylabel('SleepHours')\n",
    "plt.title('Age Distribution of Heart Attack Patients')\n",
    "plt.show()\n",
    "\n"
   ]
  },
  {
   "cell_type": "code",
   "execution_count": 12,
   "id": "96fde4ef-5006-4c83-b40d-37f1bf7fefb8",
   "metadata": {},
   "outputs": [
    {
     "name": "stdout",
     "output_type": "stream",
     "text": [
      "The minimum BMI in Indonesia is 18.00.\n",
      "The maximum BMI in Indonesia is 35.00.\n"
     ]
    }
   ],
   "source": [
    "# Calculate the minimum BMI\n",
    "min_bmi = df['BMI'].min()\n",
    "\n",
    "print(f\"The minimum BMI in Indonesia is {min_bmi:.2f}.\")\n",
    "# Calculate the Maximum BMI\n",
    "min_bmi = df['BMI'].max()\n",
    "\n",
    "print(f\"The maximum BMI in Indonesia is {min_bmi:.2f}.\")\n",
    "min_bmi = df['BMI'].max()\n",
    "\n",
    "print(f\"The maximum BMI in Indonesia is {min_bmi:.2f}.\")\n",
    "\n",
    "\n",
    "\n",
    "\n"
   ]
  },
  {
   "cell_type": "code",
   "execution_count": 32,
   "id": "7d8c52aa-07d8-42c1-a88e-c5e06ba282cb",
   "metadata": {},
   "outputs": [
    {
     "name": "stdout",
     "output_type": "stream",
     "text": [
      "The Average sleeping hours in Indonesia is 6.50 hours per night.\n",
      "The Minimum sleeping hours in Indonesia is 4.00 hours per night.\n",
      "The Maximum sleeping hours in Indonesia is 9.00 hours per night.\n"
     ]
    }
   ],
   "source": [
    "# Calculate the average sleeping hours\n",
    "average_sleeping_hours = df['SleepHours'].mean()\n",
    "\n",
    "print(f\"The Average sleeping hours in Indonesia is {average_sleeping_hours:.2f} hours per night.\")\n",
    "\n",
    "# Calculate the Minimum sleeping hours\n",
    "average_sleeping_hours = df['SleepHours'].min()\n",
    "\n",
    "print(f\"The Minimum sleeping hours in Indonesia is {average_sleeping_hours:.2f} hours per night.\")\n",
    "\n",
    "# Calculate the Maximum Sleeping hours\n",
    "average_sleeping_hours = df['SleepHours'].max()\n",
    "\n",
    "print(f\"The Maximum sleeping hours in Indonesia is {average_sleeping_hours:.2f} hours per night.\")\n"
   ]
  },
  {
   "cell_type": "code",
   "execution_count": 24,
   "id": "d422d0f0-3403-440e-91f0-9378837f4b65",
   "metadata": {},
   "outputs": [
    {
     "name": "stdout",
     "output_type": "stream",
     "text": [
      "The average Air Quality Index in Indonesia is 174.80.\n",
      "The minimum Air Quality Index in Indonesia is 50.00.\n",
      "The maximum Air Quality Index in Indonesia is 299.00.\n"
     ]
    }
   ],
   "source": [
    "# Calculate the average Air Quality Index (assuming the column is named 'Air_Quality_Index')\n",
    "average_air_quality_index = df['AirQualityIndex'].mean()\n",
    "\n",
    "print(f\"The average Air Quality Index in Indonesia is {average_air_quality_index:.2f}.\")\n",
    "\n",
    "# Calculate the minimum Air Quality \n",
    "average_air_quality_index = df['AirQualityIndex'].min()\n",
    "print(f\"The minimum Air Quality Index in Indonesia is {average_air_quality_index:.2f}.\")\n",
    "# Calculate the Maximum Air Quality \n",
    "average_air_quality_index = df['AirQualityIndex'].max()\n",
    "\n",
    "print(f\"The maximum Air Quality Index in Indonesia is {average_air_quality_index:.2f}.\")\n",
    "\n"
   ]
  },
  {
   "cell_type": "code",
   "execution_count": 92,
   "id": "ac44f024-e6d9-4730-af0e-b96d42735734",
   "metadata": {},
   "outputs": [
    {
     "name": "stdout",
     "output_type": "stream",
     "text": [
      "Average Cholesterol Level by Gender:\n",
      "Gender\n",
      "Female    224.510001\n",
      "Male      224.454989\n",
      "Name: Cholesterol, dtype: float64\n"
     ]
    }
   ],
   "source": [
    "# Calculate the average cholesterol level by gender\n",
    "average_cholesterol_by_gender = df.groupby('Gender')['Cholesterol'].mean()\n",
    "\n",
    "print(\"Average Cholesterol Level by Gender:\")\n",
    "print(average_cholesterol_by_gender)\n"
   ]
  },
  {
   "cell_type": "code",
   "execution_count": 94,
   "id": "6d564ce9-7d5a-4f30-a45a-68c55cbc36d3",
   "metadata": {},
   "outputs": [
    {
     "name": "stdout",
     "output_type": "stream",
     "text": [
      "Average Sleeping Hours by Gender:\n",
      "Gender\n",
      "Female    6.507440\n",
      "Male      6.507379\n",
      "Name: SleepHours, dtype: float64\n"
     ]
    }
   ],
   "source": [
    "# Calculate the average sleeping hours by gender\n",
    "average_sleeping_hours_by_gender = df.groupby('Gender')['SleepHours'].mean()\n",
    "\n",
    "print(\"Average Sleeping Hours by Gender:\")\n",
    "print(average_sleeping_hours_by_gender)\n"
   ]
  },
  {
   "cell_type": "code",
   "execution_count": 134,
   "id": "af1608cd-25d5-4e87-a7ed-94e754f01f32",
   "metadata": {},
   "outputs": [
    {
     "name": "stdout",
     "output_type": "stream",
     "text": [
      "Average BMI by Gender:\n",
      "Gender\n",
      "Female    26.501314\n",
      "Male      26.508866\n",
      "Name: BMI, dtype: float64\n"
     ]
    }
   ],
   "source": [
    "# Calculate the average BMI by gender\n",
    "average_bmi_by_gender = df.groupby('Gender')['BMI'].mean()\n",
    "\n",
    "print(\"Average BMI by Gender:\")\n",
    "print(average_bmi_by_gender)\n"
   ]
  },
  {
   "cell_type": "code",
   "execution_count": 18,
   "id": "e3fe34eb-fc01-4552-b428-6ad5594343c4",
   "metadata": {},
   "outputs": [
    {
     "name": "stdout",
     "output_type": "stream",
     "text": [
      "The average cholesterol consumption in Indonesia is 224.53 mg/day.\n",
      "The minimum cholesterol consumption in Indonesia is 150.00 mg/day.\n",
      "The maximum cholesterol consumption in Indonesia is 299.00 mg/day.\n"
     ]
    }
   ],
   "source": [
    "average_cholesterol_consumption = df['Cholesterol'].mean()\n",
    "print(f\"The average cholesterol consumption in Indonesia is {average_cholesterol_consumption:.2f} mg/day.\")\n",
    "\n",
    "average_cholesterol_consumption = df['Cholesterol'].min()\n",
    "print(f\"The minimum cholesterol consumption in Indonesia is {average_cholesterol_consumption:.2f} mg/day.\")\n",
    "\n",
    "average_cholesterol_consumption = df['Cholesterol'].max()\n",
    "print(f\"The maximum cholesterol consumption in Indonesia is {average_cholesterol_consumption:.2f} mg/day.\")"
   ]
  },
  {
   "cell_type": "code",
   "execution_count": 146,
   "id": "c9aefb55-f8a8-4d02-a3fd-5169115b0d40",
   "metadata": {},
   "outputs": [
    {
     "data": {
      "image/png": "[encoded data removed]",
      "text/plain": [
       "<Figure size 640x480 with 1 Axes>"
      ]
     },
     "metadata": {},
     "output_type": "display_data"
    }
   ],
   "source": [
    "df['Cholesterol'].hist(bins=20)\n",
    "plt.xlabel('Cholesterol Consumption (mg/day)')\n",
    "plt.ylabel('Frequency')\n",
    "plt.title('Distribution of Cholesterol Consumption in Indonesia')\n",
    "plt.show()\n"
   ]
  },
  {
   "cell_type": "code",
   "execution_count": null,
   "id": "59e01289-2ba6-4abc-9c82-22120269d5f9",
   "metadata": {},
   "outputs": [],
   "source": []
  }
 ],
 "metadata": {
  "kernelspec": {
   "display_name": "Python [conda env:base] *",
   "language": "python",
   "name": "conda-base-py"
  },
  "language_info": {
   "codemirror_mode": {
    "name": "ipython",
    "version": 3
   },
   "file_extension": ".py",
   "mimetype": "text/x-python",
   "name": "python",
   "nbconvert_exporter": "python",
   "pygments_lexer": "ipython3",
   "version": "3.12.4"
  }
 },
 "nbformat": 4,
 "nbformat_minor": 5
}
