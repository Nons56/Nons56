{
 "cells": [
  {
   "cell_type": "code",
   "execution_count": 8,
   "id": "eabca82b-1bf0-48bf-9b9f-0f001c810935",
   "metadata": {},
   "outputs": [],
   "source": [
    "import numpy as np"
   ]
  },
  {
   "cell_type": "code",
   "execution_count": 95,
   "id": "440bf9e8-0ac0-4db6-86a8-99a765e4509e",
   "metadata": {},
   "outputs": [
    {
     "name": "stdout",
     "output_type": "stream",
     "text": [
      "[[25 26 37 65 78]\n",
      " [89 93 74 76 77]\n",
      " [86 84 80 69 15]\n",
      " [16 17 18 19 20]\n",
      " [21 22 23 24 25]]\n",
      "[25 26 37 65 78 89 93 74 76 77 86 84 80 69 15 16 17 18 19 20 21 22 23 24\n",
      " 25]\n",
      "93\n",
      "15\n",
      "47.16\n",
      "[65 78 89 93 74 76 77 86 84 80 69]\n"
     ]
    }
   ],
   "source": [
    "#numpy reshaping\n",
    "arr = np.array([25,26,37,65,78,89,93,74,76,77,86,84,80,69,15,16,17,18,19,20,21,22,23,24,25])\n",
    "arr = arr.reshape(5,5)\n",
    "print(arr)\n",
    "array1 = arr.reshape((25,))\n",
    "print(array1)\n",
    "print(np.max(arr))\n",
    "print(np.min(arr))\n",
    "print(np.mean(arr))\n",
    "array2 = arr[arr > 50]\n",
    "print(array2)\n"
   ]
  },
  {
   "cell_type": "code",
   "execution_count": 4,
   "id": "20c38d71-0ddb-4307-8187-53dc39abf840",
   "metadata": {},
   "outputs": [
    {
     "name": "stdout",
     "output_type": "stream",
     "text": [
      "      Name  Age  Salary   Department Date of Joining\n",
      "0  Francis   28    5000           HR      2019-01-15\n",
      "1     Egah   34    6000  Engineering      2018-03-22\n",
      "2    David   26   52000    Marketing      2020-07-18\n",
      "3  Michael   45   70000      Finance      2017-09-10\n",
      "4      obi   39   58000           IT      2016-11-05\n",
      "5    James   30   54000        Sales      2018-06-28\n",
      "6     Emma   32   56000           HR      2019-08-12\n",
      "7  Abraham   50   80000  Engineering      2015-12-30\n",
      "8      Isa   29   53000    Marketing      2021-05-14\n",
      "9    Chris   42   65000      Finance      2017-04-25\n"
     ]
    }
   ],
   "source": [
    "import pandas as pd \n",
    "from datetime import datetime\n",
    "# Data for the DataFrame\n",
    "s6 = {\n",
    "    'Name': ['Francis', 'Egah', 'David', 'Michael', 'obi', 'James', 'Emma', 'Abraham', 'Isa', 'Chris'],\n",
    "    'Age': [28, 34, 26, 45, 39, 30, 32, 50, 29, 42],\n",
    "    'Salary': [5000, 6000, 52000, 70000, 58000, 54000, 56000, 80000, 53000, 65000],\n",
    "    'Department': ['HR', 'Engineering', 'Marketing', 'Finance', 'IT', 'Sales', 'HR', 'Engineering', 'Marketing', 'Finance'],\n",
    "    'Date of Joining': ['2019-01-15', '2018-03-22', '2020-07-18', '2017-09-10', '2016-11-05', '2018-06-28', '2019-08-12', '2015-12-30', '2021-05-14', '2017-04-25']\n",
    "}\n",
    "# Create the DataFrame\n",
    "arr = pd.DataFrame(s6)\n",
    "\n",
    "\n",
    "print(arr)\n"
   ]
  },
  {
   "cell_type": "code",
   "execution_count": 55,
   "id": "8f6213ea-764f-45dc-8cc8-316921e15ab1",
   "metadata": {},
   "outputs": [
    {
     "name": "stdout",
     "output_type": "stream",
     "text": [
      "Department\n",
      "Engineering    43000.0\n",
      "Finance        67500.0\n",
      "HR             30500.0\n",
      "IT             58000.0\n",
      "Marketing      52500.0\n",
      "Sales          54000.0\n",
      "Name: Salary, dtype: float64\n"
     ]
    }
   ],
   "source": [
    "\n",
    "average_salary_per_department = arr.groupby('Department')['Salary'].mean()\n",
    "\n",
    "print(average_salary_per_department)\n"
   ]
  },
  {
   "cell_type": "code",
   "execution_count": 12,
   "id": "a2913890-211b-48f4-9600-35fe202cf4f9",
   "metadata": {},
   "outputs": [
    {
     "name": "stdout",
     "output_type": "stream",
     "text": [
      "      Name  Age  Salary   Department Date of Joining  Years in Company\n",
      "0  Francis   28    5000           HR      2019-01-15                 5\n",
      "1     Egah   34    6000  Engineering      2018-03-22                 6\n",
      "2    David   26   52000    Marketing      2020-07-18                 4\n",
      "3  Michael   45   70000      Finance      2017-09-10                 7\n",
      "4      obi   39   58000           IT      2016-11-05                 8\n",
      "5    James   30   54000        Sales      2018-06-28                 6\n",
      "6     Emma   32   56000           HR      2019-08-12                 5\n",
      "7  Abraham   50   80000  Engineering      2015-12-30                 9\n",
      "8      Isa   29   53000    Marketing      2021-05-14                 3\n",
      "9    Chris   42   65000      Finance      2017-04-25                 7\n"
     ]
    }
   ],
   "source": [
    "import pandas as pd \n",
    "from datetime import datetime\n",
    "current_date = datetime.now()\n",
    "arr['Years in Company'] = arr['Date of Joining'].apply(lambda x: current_date.year - pd.to_datetime(x).year)\n",
    "print(arr)"
   ]
  },
  {
   "cell_type": "code",
   "execution_count": 91,
   "id": "b24d831b-65fd-4996-a551-98557f9aec05",
   "metadata": {},
   "outputs": [
    {
     "name": "stdout",
     "output_type": "stream",
     "text": [
      "      Name  Age  Salary   Department Date of Joining  Years in Company\n",
      "1     Egah   34    6000  Engineering      2018-03-22                 6\n",
      "3  Michael   45   70000      Finance      2017-09-10                 7\n",
      "4      obi   39   58000           IT      2016-11-05                 8\n",
      "5    James   30   54000        Sales      2018-06-28                 6\n",
      "7  Abraham   50   80000  Engineering      2015-12-30                 9\n",
      "9    Chris   42   65000      Finance      2017-04-25                 7\n"
     ]
    }
   ],
   "source": [
    "filtered_arr = arr[arr['Years in Company'] > 5]\n",
    "print(filtered_arr)"
   ]
  },
  {
   "cell_type": "code",
   "execution_count": null,
   "id": "dda3a6ba-62dc-4b34-bf63-fc98891f08e3",
   "metadata": {},
   "outputs": [],
   "source": []
  }
 ],
 "metadata": {
  "kernelspec": {
   "display_name": "Python 3 (ipykernel)",
   "language": "python",
   "name": "python3"
  },
  "language_info": {
   "codemirror_mode": {
    "name": "ipython",
    "version": 3
   },
   "file_extension": ".py",
   "mimetype": "text/x-python",
   "name": "python",
   "nbconvert_exporter": "python",
   "pygments_lexer": "ipython3",
   "version": "3.12.4"
  }
 },
 "nbformat": 4,
 "nbformat_minor": 5
}
