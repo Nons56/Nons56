{
 "cells": [
  {
   "cell_type": "code",
   "execution_count": 2,
   "id": "ab11ab66-b263-48dd-a2b5-f85184c0b645",
   "metadata": {},
   "outputs": [],
   "source": [
    "import numpy as np\n",
    "import pandas as pd\n",
    "import matplotlib.pyplot as plt\n",
    "#import seaborn\n",
    "\n",
    "%matplotlib inline\n"
   ]
  },
  {
   "cell_type": "code",
   "execution_count": 4,
   "id": "b737bc3a-e683-49cd-9b8e-09cfc96dd0d6",
   "metadata": {},
   "outputs": [
    {
     "data": {
      "text/html": [
       "<div>\n",
       "<style scoped>\n",
       "    .dataframe tbody tr th:only-of-type {\n",
       "        vertical-align: middle;\n",
       "    }\n",
       "\n",
       "    .dataframe tbody tr th {\n",
       "        vertical-align: top;\n",
       "    }\n",
       "\n",
       "    .dataframe thead th {\n",
       "        text-align: right;\n",
       "    }\n",
       "</style>\n",
       "<table border=\"1\" class=\"dataframe\">\n",
       "  <thead>\n",
       "    <tr style=\"text-align: right;\">\n",
       "      <th></th>\n",
       "      <th>Order ID</th>\n",
       "      <th>Region</th>\n",
       "      <th>Salesperson</th>\n",
       "      <th>Product</th>\n",
       "      <th>Units Sold</th>\n",
       "      <th>Unit Price</th>\n",
       "      <th>Total Sales</th>\n",
       "      <th>Order Date</th>\n",
       "    </tr>\n",
       "  </thead>\n",
       "  <tbody>\n",
       "    <tr>\n",
       "      <th>0</th>\n",
       "      <td>1001</td>\n",
       "      <td>East</td>\n",
       "      <td>John Doe</td>\n",
       "      <td>Widget A</td>\n",
       "      <td>10.0</td>\n",
       "      <td>25.0</td>\n",
       "      <td>250.0</td>\n",
       "      <td>01/05/2023</td>\n",
       "    </tr>\n",
       "    <tr>\n",
       "      <th>1</th>\n",
       "      <td>1002</td>\n",
       "      <td>West</td>\n",
       "      <td>Jane Smith</td>\n",
       "      <td>Widget B</td>\n",
       "      <td>5.0</td>\n",
       "      <td>35.0</td>\n",
       "      <td>175.0</td>\n",
       "      <td>02/10/2023</td>\n",
       "    </tr>\n",
       "    <tr>\n",
       "      <th>2</th>\n",
       "      <td>1003</td>\n",
       "      <td>North</td>\n",
       "      <td>Alice Brown</td>\n",
       "      <td>Widget C</td>\n",
       "      <td>NaN</td>\n",
       "      <td>20.0</td>\n",
       "      <td>NaN</td>\n",
       "      <td>03/15/2023</td>\n",
       "    </tr>\n",
       "    <tr>\n",
       "      <th>3</th>\n",
       "      <td>1004</td>\n",
       "      <td>South</td>\n",
       "      <td>Bob White</td>\n",
       "      <td>Widget A</td>\n",
       "      <td>20.0</td>\n",
       "      <td>25.0</td>\n",
       "      <td>500.0</td>\n",
       "      <td>04/20/2023</td>\n",
       "    </tr>\n",
       "    <tr>\n",
       "      <th>4</th>\n",
       "      <td>1005</td>\n",
       "      <td>East</td>\n",
       "      <td>John Doe</td>\n",
       "      <td>Widget B</td>\n",
       "      <td>7.0</td>\n",
       "      <td>35.0</td>\n",
       "      <td>245.0</td>\n",
       "      <td>05/25/2023</td>\n",
       "    </tr>\n",
       "    <tr>\n",
       "      <th>5</th>\n",
       "      <td>1006</td>\n",
       "      <td>West</td>\n",
       "      <td>Jane Smith</td>\n",
       "      <td>Widget C</td>\n",
       "      <td>3.0</td>\n",
       "      <td>20.0</td>\n",
       "      <td>60.0</td>\n",
       "      <td>06/30/2023</td>\n",
       "    </tr>\n",
       "    <tr>\n",
       "      <th>6</th>\n",
       "      <td>1007</td>\n",
       "      <td>North</td>\n",
       "      <td>Alice Brown</td>\n",
       "      <td>Widget A</td>\n",
       "      <td>15.0</td>\n",
       "      <td>25.0</td>\n",
       "      <td>375.0</td>\n",
       "      <td>07/05/2023</td>\n",
       "    </tr>\n",
       "    <tr>\n",
       "      <th>7</th>\n",
       "      <td>1008</td>\n",
       "      <td>South</td>\n",
       "      <td>Bob White</td>\n",
       "      <td>Widget B</td>\n",
       "      <td>10.0</td>\n",
       "      <td>NaN</td>\n",
       "      <td>NaN</td>\n",
       "      <td>08/10/2023</td>\n",
       "    </tr>\n",
       "    <tr>\n",
       "      <th>8</th>\n",
       "      <td>1009</td>\n",
       "      <td>East</td>\n",
       "      <td>John Doe</td>\n",
       "      <td>Widget C</td>\n",
       "      <td>12.0</td>\n",
       "      <td>20.0</td>\n",
       "      <td>240.0</td>\n",
       "      <td>09/15/2023</td>\n",
       "    </tr>\n",
       "    <tr>\n",
       "      <th>9</th>\n",
       "      <td>1010</td>\n",
       "      <td>West</td>\n",
       "      <td>Jane Smith</td>\n",
       "      <td>Widget A</td>\n",
       "      <td>5.0</td>\n",
       "      <td>25.0</td>\n",
       "      <td>125.0</td>\n",
       "      <td>10/20/2023</td>\n",
       "    </tr>\n",
       "  </tbody>\n",
       "</table>\n",
       "</div>"
      ],
      "text/plain": [
       "   Order ID Region  Salesperson   Product  Units Sold  Unit Price  \\\n",
       "0      1001   East     John Doe  Widget A        10.0        25.0   \n",
       "1      1002   West   Jane Smith  Widget B         5.0        35.0   \n",
       "2      1003  North  Alice Brown  Widget C         NaN        20.0   \n",
       "3      1004  South    Bob White  Widget A        20.0        25.0   \n",
       "4      1005   East     John Doe  Widget B         7.0        35.0   \n",
       "5      1006   West   Jane Smith  Widget C         3.0        20.0   \n",
       "6      1007  North  Alice Brown  Widget A        15.0        25.0   \n",
       "7      1008  South    Bob White  Widget B        10.0         NaN   \n",
       "8      1009   East     John Doe  Widget C        12.0        20.0   \n",
       "9      1010   West   Jane Smith  Widget A         5.0        25.0   \n",
       "\n",
       "   Total Sales  Order Date  \n",
       "0        250.0  01/05/2023  \n",
       "1        175.0  02/10/2023  \n",
       "2          NaN  03/15/2023  \n",
       "3        500.0  04/20/2023  \n",
       "4        245.0  05/25/2023  \n",
       "5         60.0  06/30/2023  \n",
       "6        375.0  07/05/2023  \n",
       "7          NaN  08/10/2023  \n",
       "8        240.0  09/15/2023  \n",
       "9        125.0  10/20/2023  "
      ]
     },
     "execution_count": 4,
     "metadata": {},
     "output_type": "execute_result"
    }
   ],
   "source": [
    "df = pd.read_csv('Downloads/excel_exercise_dataset.csv')\n",
    "df.head(10)"
   ]
  },
  {
   "cell_type": "code",
   "execution_count": 16,
   "id": "e8ef3bff-b370-4e8d-9257-47ff0e034a93",
   "metadata": {},
   "outputs": [
    {
     "data": {
      "text/plain": [
       "(10, 8)"
      ]
     },
     "execution_count": 16,
     "metadata": {},
     "output_type": "execute_result"
    }
   ],
   "source": [
    "df.shape"
   ]
  },
  {
   "cell_type": "code",
   "execution_count": 18,
   "id": "6079218a-8583-45fa-92b6-a42f07170f4a",
   "metadata": {},
   "outputs": [
    {
     "name": "stdout",
     "output_type": "stream",
     "text": [
      "<class 'pandas.core.frame.DataFrame'>\n",
      "RangeIndex: 10 entries, 0 to 9\n",
      "Data columns (total 8 columns):\n",
      " #   Column       Non-Null Count  Dtype  \n",
      "---  ------       --------------  -----  \n",
      " 0   Order ID     10 non-null     int64  \n",
      " 1   Region       10 non-null     object \n",
      " 2   Salesperson  10 non-null     object \n",
      " 3   Product      10 non-null     object \n",
      " 4   Units Sold   9 non-null      float64\n",
      " 5   Unit Price   9 non-null      float64\n",
      " 6   Total Sales  8 non-null      float64\n",
      " 7   Order Date   10 non-null     object \n",
      "dtypes: float64(3), int64(1), object(4)\n",
      "memory usage: 772.0+ bytes\n"
     ]
    }
   ],
   "source": [
    "df.info()"
   ]
  },
  {
   "cell_type": "code",
   "execution_count": 22,
   "id": "3d46bc1d-5114-4d6c-ab2e-495f5c7c503c",
   "metadata": {},
   "outputs": [
    {
     "data": {
      "text/html": [
       "<div>\n",
       "<style scoped>\n",
       "    .dataframe tbody tr th:only-of-type {\n",
       "        vertical-align: middle;\n",
       "    }\n",
       "\n",
       "    .dataframe tbody tr th {\n",
       "        vertical-align: top;\n",
       "    }\n",
       "\n",
       "    .dataframe thead th {\n",
       "        text-align: right;\n",
       "    }\n",
       "</style>\n",
       "<table border=\"1\" class=\"dataframe\">\n",
       "  <thead>\n",
       "    <tr style=\"text-align: right;\">\n",
       "      <th></th>\n",
       "      <th>Order ID</th>\n",
       "      <th>Units Sold</th>\n",
       "      <th>Unit Price</th>\n",
       "      <th>Total Sales</th>\n",
       "    </tr>\n",
       "  </thead>\n",
       "  <tbody>\n",
       "    <tr>\n",
       "      <th>count</th>\n",
       "      <td>10.00000</td>\n",
       "      <td>9.000000</td>\n",
       "      <td>9.000000</td>\n",
       "      <td>8.000000</td>\n",
       "    </tr>\n",
       "    <tr>\n",
       "      <th>mean</th>\n",
       "      <td>1005.50000</td>\n",
       "      <td>9.666667</td>\n",
       "      <td>25.555556</td>\n",
       "      <td>246.250000</td>\n",
       "    </tr>\n",
       "    <tr>\n",
       "      <th>std</th>\n",
       "      <td>3.02765</td>\n",
       "      <td>5.431390</td>\n",
       "      <td>5.833333</td>\n",
       "      <td>139.123532</td>\n",
       "    </tr>\n",
       "    <tr>\n",
       "      <th>min</th>\n",
       "      <td>1001.00000</td>\n",
       "      <td>3.000000</td>\n",
       "      <td>20.000000</td>\n",
       "      <td>60.000000</td>\n",
       "    </tr>\n",
       "    <tr>\n",
       "      <th>25%</th>\n",
       "      <td>1003.25000</td>\n",
       "      <td>5.000000</td>\n",
       "      <td>20.000000</td>\n",
       "      <td>162.500000</td>\n",
       "    </tr>\n",
       "    <tr>\n",
       "      <th>50%</th>\n",
       "      <td>1005.50000</td>\n",
       "      <td>10.000000</td>\n",
       "      <td>25.000000</td>\n",
       "      <td>242.500000</td>\n",
       "    </tr>\n",
       "    <tr>\n",
       "      <th>75%</th>\n",
       "      <td>1007.75000</td>\n",
       "      <td>12.000000</td>\n",
       "      <td>25.000000</td>\n",
       "      <td>281.250000</td>\n",
       "    </tr>\n",
       "    <tr>\n",
       "      <th>max</th>\n",
       "      <td>1010.00000</td>\n",
       "      <td>20.000000</td>\n",
       "      <td>35.000000</td>\n",
       "      <td>500.000000</td>\n",
       "    </tr>\n",
       "  </tbody>\n",
       "</table>\n",
       "</div>"
      ],
      "text/plain": [
       "         Order ID  Units Sold  Unit Price  Total Sales\n",
       "count    10.00000    9.000000    9.000000     8.000000\n",
       "mean   1005.50000    9.666667   25.555556   246.250000\n",
       "std       3.02765    5.431390    5.833333   139.123532\n",
       "min    1001.00000    3.000000   20.000000    60.000000\n",
       "25%    1003.25000    5.000000   20.000000   162.500000\n",
       "50%    1005.50000   10.000000   25.000000   242.500000\n",
       "75%    1007.75000   12.000000   25.000000   281.250000\n",
       "max    1010.00000   20.000000   35.000000   500.000000"
      ]
     },
     "execution_count": 22,
     "metadata": {},
     "output_type": "execute_result"
    }
   ],
   "source": [
    "df.describe()"
   ]
  },
  {
   "cell_type": "code",
   "execution_count": 26,
   "id": "35e3626e-106f-4893-98a4-80da908f251c",
   "metadata": {},
   "outputs": [
    {
     "data": {
      "text/plain": [
       "Order ID         int64\n",
       "Region          object\n",
       "Salesperson     object\n",
       "Product         object\n",
       "Units Sold     float64\n",
       "Unit Price     float64\n",
       "Total Sales    float64\n",
       "Order Date      object\n",
       "dtype: object"
      ]
     },
     "execution_count": 26,
     "metadata": {},
     "output_type": "execute_result"
    }
   ],
   "source": [
    "df.dtypes"
   ]
  },
  {
   "cell_type": "code",
   "execution_count": 54,
   "id": "0474f58c-5ab7-4e8c-9e99-561c41129685",
   "metadata": {},
   "outputs": [
    {
     "name": "stdout",
     "output_type": "stream",
     "text": [
      "   Order ID Region  Salesperson   Product  Units Sold  Unit Price  \\\n",
      "0      1001   East     John Doe  Widget A        10.0        25.0   \n",
      "1      1002   West   Jane Smith  Widget B         5.0        35.0   \n",
      "3      1004  South    Bob White  Widget A        20.0        25.0   \n",
      "4      1005   East     John Doe  Widget B         7.0        35.0   \n",
      "5      1006   West   Jane Smith  Widget C         3.0        20.0   \n",
      "6      1007  North  Alice Brown  Widget A        15.0        25.0   \n",
      "8      1009   East     John Doe  Widget C        12.0        20.0   \n",
      "9      1010   West   Jane Smith  Widget A         5.0        25.0   \n",
      "\n",
      "   Total Sales  Order Date  \n",
      "0        250.0  01/05/2023  \n",
      "1        175.0  02/10/2023  \n",
      "3        500.0  04/20/2023  \n",
      "4        245.0  05/25/2023  \n",
      "5         60.0  06/30/2023  \n",
      "6        375.0  07/05/2023  \n",
      "8        240.0  09/15/2023  \n",
      "9        125.0  10/20/2023  \n"
     ]
    }
   ],
   "source": [
    "# Remove duplicate row\n",
    "df = df.drop_duplicates()\n",
    "print(df)"
   ]
  },
  {
   "cell_type": "code",
   "execution_count": 30,
   "id": "cc030155-6125-4e73-b99d-6c8f4fa6f1d9",
   "metadata": {},
   "outputs": [
    {
     "name": "stdout",
     "output_type": "stream",
     "text": [
      "Order ID       0\n",
      "Region         0\n",
      "Salesperson    0\n",
      "Product        0\n",
      "Units Sold     1\n",
      "Unit Price     1\n",
      "Total Sales    2\n",
      "Order Date     0\n",
      "dtype: int64\n",
      "Order ID       0\n",
      "Region         0\n",
      "Salesperson    0\n",
      "Product        0\n",
      "Units Sold     1\n",
      "Unit Price     1\n",
      "Total Sales    2\n",
      "Order Date     0\n",
      "dtype: int64\n",
      "Order ID       0\n",
      "Region         0\n",
      "Salesperson    0\n",
      "Product        0\n",
      "Units Sold     1\n",
      "Unit Price     1\n",
      "Total Sales    2\n",
      "Order Date     0\n",
      "dtype: int64\n"
     ]
    }
   ],
   "source": [
    "# Check for missing values in the modified DataFrame\n",
    "missing_values_filled = df.isnull().sum()\n",
    "missing_values_dropped_rows = df.isnull().sum()\n",
    "missing_values_dropped_columns = df.isnull().sum()\n",
    "\n",
    "print(missing_values_filled)\n",
    "print(missing_values_dropped_rows)\n",
    "print(missing_values_dropped_columns)"
   ]
  },
  {
   "cell_type": "code",
   "execution_count": 32,
   "id": "5759beb7-c530-430f-8817-11bfd73781ce",
   "metadata": {},
   "outputs": [
    {
     "name": "stdout",
     "output_type": "stream",
     "text": [
      "   Order ID Region  Salesperson   Product  Units Sold  Unit Price  \\\n",
      "0      1001   East     John Doe  Widget A        10.0        25.0   \n",
      "1      1002   West   Jane Smith  Widget B         5.0        35.0   \n",
      "3      1004  South    Bob White  Widget A        20.0        25.0   \n",
      "4      1005   East     John Doe  Widget B         7.0        35.0   \n",
      "5      1006   West   Jane Smith  Widget C         3.0        20.0   \n",
      "6      1007  North  Alice Brown  Widget A        15.0        25.0   \n",
      "8      1009   East     John Doe  Widget C        12.0        20.0   \n",
      "9      1010   West   Jane Smith  Widget A         5.0        25.0   \n",
      "\n",
      "   Total Sales  Order Date  \n",
      "0        250.0  01/05/2023  \n",
      "1        175.0  02/10/2023  \n",
      "3        500.0  04/20/2023  \n",
      "4        245.0  05/25/2023  \n",
      "5         60.0  06/30/2023  \n",
      "6        375.0  07/05/2023  \n",
      "8        240.0  09/15/2023  \n",
      "9        125.0  10/20/2023  \n"
     ]
    }
   ],
   "source": [
    "df = df.dropna()\n",
    "print(df)"
   ]
  },
  {
   "cell_type": "code",
   "execution_count": 38,
   "id": "149ac99e-f85d-4af4-ad46-cfe9e08428c5",
   "metadata": {},
   "outputs": [
    {
     "name": "stdout",
     "output_type": "stream",
     "text": [
      "\n",
      "Missing Values After Handling:\n",
      "Order ID       0\n",
      "Region         0\n",
      "Salesperson    0\n",
      "Product        0\n",
      "Units Sold     0\n",
      "Unit Price     0\n",
      "Total Sales    0\n",
      "Order Date     0\n",
      "dtype: int64\n"
     ]
    }
   ],
   "source": [
    "# Filling missing 'Total Sales' values where 'Units Sold' and 'Unit Price' are available\n",
    "df['Total Sales'] = df['Total Sales'].fillna(df['Units Sold'] * df['Unit Price'])\n",
    "# Filling missing 'Units Sold' values where 'Total Sales' and 'Unit Price' are available\n",
    "df['Units Sold'] = df['Units Sold'].fillna(df['Total Sales'] / df['Unit Price'])\n",
    "# Dropping rows with completely missing data or with insufficient information\n",
    "df = df.dropna()\n",
    "\n",
    "print(\"\\nMissing Values After Handling:\")\n",
    "print(df.isnull().sum())\n"
   ]
  },
  {
   "cell_type": "code",
   "execution_count": 46,
   "id": "f76794e7-a349-43eb-8e68-12591982a897",
   "metadata": {},
   "outputs": [
    {
     "name": "stdout",
     "output_type": "stream",
     "text": [
      "\n",
      "Sales by Region:\n",
      "        Units Sold  Total Sales\n",
      "Region                         \n",
      "East          29.0        735.0\n",
      "North         15.0        375.0\n",
      "South         20.0        500.0\n",
      "West          13.0        360.0\n",
      "\n",
      "Pivot Table Summary:\n",
      "        Total Sales                   Units Sold                  \n",
      "Product    Widget A Widget B Widget C   Widget A Widget B Widget C\n",
      "Region                                                            \n",
      "East          250.0    245.0    240.0       10.0      7.0     12.0\n",
      "North         375.0      0.0      0.0       15.0      0.0      0.0\n",
      "South         500.0      0.0      0.0       20.0      0.0      0.0\n",
      "West          125.0    175.0     60.0        5.0      5.0      3.0\n"
     ]
    }
   ],
   "source": [
    "  #Analyze sales by region\n",
    "sales_by_region = df.groupby('Region')[['Units Sold', 'Total Sales']].sum()\n",
    "print(\"\\nSales by Region:\")\n",
    "print(sales_by_region)\n",
    "\n",
    "# Step 3: Create pivot tables to summarize sales data\n",
    "pivot_table = df.pivot_table(\n",
    "    values=['Units Sold', 'Total Sales'],\n",
    "    index='Region',\n",
    "    columns='Product',\n",
    "    aggfunc='sum',\n",
    "    fill_value=0\n",
    ")\n",
    "print(\"\\nPivot Table Summary:\")\n",
    "print(pivot_table)"
   ]
  },
  {
   "cell_type": "code",
   "execution_count": 9,
   "id": "8fe96f17-269f-40ac-a695-e7e471386310",
   "metadata": {},
   "outputs": [
    {
     "name": "stdout",
     "output_type": "stream",
     "text": [
      "Average Sales by Region:\n",
      "Region\n",
      "East     245.0\n",
      "North    375.0\n",
      "South    500.0\n",
      "West     120.0\n",
      "Name: Total Sales, dtype: float64\n"
     ]
    }
   ],
   "source": [
    "\n",
    "# Handle missing values for 'Total Sales'\n",
    "df['Total Sales'] = df['Total Sales'].fillna(df['Units Sold'] * df['Unit Price'])\n",
    "\n",
    "# Group data by region and calculate average sales\n",
    "average_sales_by_region = df.groupby('Region')['Total Sales'].mean()\n",
    "\n",
    "print(\"Average Sales by Region:\")\n",
    "print(average_sales_by_region)"
   ]
  },
  {
   "cell_type": "code",
   "execution_count": 52,
   "id": "359e0f26-9147-4b03-a142-77761692b318",
   "metadata": {},
   "outputs": [
    {
     "name": "stdout",
     "output_type": "stream",
     "text": [
      "Region with Highest Sale:\n",
      "Units Sold     East\n",
      "Total Sales    East\n",
      "dtype: object - Total Sales: Units Sold      29.0\n",
      "Total Sales    735.0\n",
      "dtype: float64\n",
      "\n",
      "Region with Lowest Sale:\n",
      "Units Sold     West\n",
      "Total Sales    West\n",
      "dtype: object - Total Sales: Units Sold      13.0\n",
      "Total Sales    360.0\n",
      "dtype: float64\n"
     ]
    }
   ],
   "source": [
    "\n",
    "# Find regions with the highest and lowest sales\n",
    "highest_sale_region = sales_by_region.idxmax()\n",
    "highest_sale_amount = sales_by_region.max()\n",
    "\n",
    "lowest_sale_region = sales_by_region.idxmin()\n",
    "lowest_sale_amount = sales_by_region.min()\n",
    "\n",
    "print(\"Region with Highest Sale:\")\n",
    "print(f\"{highest_sale_region} - Total Sales: {highest_sale_amount}\")\n",
    "\n",
    "print(\"\\nRegion with Lowest Sale:\")\n",
    "print(f\"{lowest_sale_region} - Total Sales: {lowest_sale_amount}\")"
   ]
  },
  {
   "cell_type": "code",
   "execution_count": 11,
   "id": "45711fee-34de-47b4-a276-84ae51d73b6b",
   "metadata": {},
   "outputs": [
    {
     "name": "stdout",
     "output_type": "stream",
     "text": [
      "Regions with Sales:\n",
      "  Region  Total Sales\n",
      "0   East        250.0\n",
      "1   West        175.0\n",
      "3  South        500.0\n",
      "4   East        245.0\n",
      "5   West         60.0\n",
      "6  North        375.0\n",
      "8   East        240.0\n",
      "9   West        125.0\n"
     ]
    }
   ],
   "source": [
    "\n",
    "\n",
    "# Handle missing values for 'Total Sales'\n",
    "df['Total Sales'] = df['Total Sales'].fillna(df['Units Sold'] * df['Unit Price'])\n",
    "\n",
    "# Filter rows where 'Total Sales' is greater than 0\n",
    "regions_with_sales = df[df['Total Sales'] > 0]\n",
    "\n",
    "print(\"Regions with Sales:\")\n",
    "print(regions_with_sales[['Region', 'Total Sales']])"
   ]
  },
  {
   "cell_type": "code",
   "execution_count": 9,
   "id": "7dc83c94-36a4-43aa-8f6f-70b2fc20fdd5",
   "metadata": {},
   "outputs": [
    {
     "name": "stdout",
     "output_type": "stream",
     "text": [
      "Average Sales by Region:\n",
      "Region\n",
      "East     245.0\n",
      "North    375.0\n",
      "South    500.0\n",
      "West     120.0\n",
      "Name: Total Sales, dtype: float64\n"
     ]
    },
    {
     "data": {
      "image/png": "[encoded data removed]",
      "text/plain": [
       "<Figure size 1000x600 with 1 Axes>"
      ]
     },
     "metadata": {},
     "output_type": "display_data"
    },
    {
     "data": {
      "image/png": "[encoded data removed]",
      "text/plain": [
       "<Figure size 800x800 with 1 Axes>"
      ]
     },
     "metadata": {},
     "output_type": "display_data"
    }
   ],
   "source": [
    "\n",
    "# Handle missing values for 'Total Sales'\n",
    "# Here, for rows with missing 'Total Sales', we calculate it using 'Units Sold' * 'Unit Price'\n",
    "df['Total Sales'] = df['Total Sales'].fillna(df['Units Sold'] * df['Unit Price'])\n",
    "\n",
    "# Group data by region and calculate average sales\n",
    "average_sales_by_region = df.groupby('Region')['Total Sales'].mean()\n",
    "\n",
    "# Display the computed average sales by region in the console\n",
    "print(\"Average Sales by Region:\")\n",
    "print(average_sales_by_region)\n",
    "\n",
    "# --------------------\n",
    "# Generate a Bar Chart\n",
    "# --------------------\n",
    "plt.figure(figsize=(10, 6))\n",
    "average_sales_by_region.plot(kind='bar', color='skyblue')\n",
    "plt.title('Average Sales by Region')\n",
    "plt.xlabel('Region')\n",
    "plt.ylabel('Average Total Sales')\n",
    "plt.xticks(rotation=0)\n",
    "plt.tight_layout()\n",
    "plt.show()\n",
    "\n",
    "# ------------------\n",
    "# Generate a Pie Chart\n",
    "# ------------------\n",
    "plt.figure(figsize=(8, 8))\n",
    "average_sales_by_region.plot(kind='pie', autopct='%1.1f%%', startangle=90,\n",
    "                              colors=['lightblue', 'lightgreen', 'coral', 'yellow'])\n",
    "plt.title('Distribution of Average Sales by Region')\n",
    "plt.ylabel('')  # Removes the ylabel for a cleaner look\n",
    "plt.tight_layout()\n",
    "plt.show()"
   ]
  },
  {
   "cell_type": "code",
   "execution_count": null,
   "id": "f20cd703-a090-4865-88f2-5587734adc27",
   "metadata": {},
   "outputs": [],
   "source": []
  }
 ],
 "metadata": {
  "kernelspec": {
   "display_name": "Python [conda env:base] *",
   "language": "python",
   "name": "conda-base-py"
  },
  "language_info": {
   "codemirror_mode": {
    "name": "ipython",
    "version": 3
   },
   "file_extension": ".py",
   "mimetype": "text/x-python",
   "name": "python",
   "nbconvert_exporter": "python",
   "pygments_lexer": "ipython3",
   "version": "3.12.4"
  }
 },
 "nbformat": 4,
 "nbformat_minor": 5
}
