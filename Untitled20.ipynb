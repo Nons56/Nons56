{
 "cells": [
  {
   "cell_type": "code",
   "execution_count": 2,
   "id": "7eea34a2-f374-45e5-9191-d2ba9e26b5f9",
   "metadata": {},
   "outputs": [],
   "source": [
    "import numpy as np\n",
    "import pandas as pd\n",
    "import matplotlib.pyplot as plt\n",
    "import seaborn\n",
    "import sys\n",
    "import subprocess\n",
    "# spliting training and testing data\n",
    "from sklearn.model_selection import train_test_split\n",
    "%matplotlib inline\n",
    "from sklearn.preprocessing import StandardScaler\n"
   ]
  },
  {
   "cell_type": "code",
   "execution_count": 6,
   "id": "908d0d08-cb02-4f3b-a6e3-b622baf32f28",
   "metadata": {},
   "outputs": [
    {
     "data": {
      "text/html": [
       "<div>\n",
       "<style scoped>\n",
       "    .dataframe tbody tr th:only-of-type {\n",
       "        vertical-align: middle;\n",
       "    }\n",
       "\n",
       "    .dataframe tbody tr th {\n",
       "        vertical-align: top;\n",
       "    }\n",
       "\n",
       "    .dataframe thead th {\n",
       "        text-align: right;\n",
       "    }\n",
       "</style>\n",
       "<table border=\"1\" class=\"dataframe\">\n",
       "  <thead>\n",
       "    <tr style=\"text-align: right;\">\n",
       "      <th></th>\n",
       "      <th>Order Line</th>\n",
       "      <th>Order ID</th>\n",
       "      <th>Order Date</th>\n",
       "      <th>Ship Date</th>\n",
       "      <th>Ship Mode</th>\n",
       "      <th>Customer ID</th>\n",
       "      <th>Product ID</th>\n",
       "      <th>Sales</th>\n",
       "      <th>Quantity</th>\n",
       "      <th>Discount</th>\n",
       "      <th>Profit</th>\n",
       "    </tr>\n",
       "  </thead>\n",
       "  <tbody>\n",
       "    <tr>\n",
       "      <th>0</th>\n",
       "      <td>1</td>\n",
       "      <td>CA-2016-152156</td>\n",
       "      <td>2016-11-08</td>\n",
       "      <td>2016-11-11</td>\n",
       "      <td>Second Class</td>\n",
       "      <td>CG-12520</td>\n",
       "      <td>FUR-BO-10001798</td>\n",
       "      <td>261.9600</td>\n",
       "      <td>2</td>\n",
       "      <td>0.00</td>\n",
       "      <td>41.9136</td>\n",
       "    </tr>\n",
       "    <tr>\n",
       "      <th>1</th>\n",
       "      <td>2</td>\n",
       "      <td>CA-2016-152156</td>\n",
       "      <td>2016-11-08</td>\n",
       "      <td>2016-11-11</td>\n",
       "      <td>Second Class</td>\n",
       "      <td>CG-12520</td>\n",
       "      <td>FUR-CH-10000454</td>\n",
       "      <td>731.9400</td>\n",
       "      <td>3</td>\n",
       "      <td>0.00</td>\n",
       "      <td>219.5820</td>\n",
       "    </tr>\n",
       "    <tr>\n",
       "      <th>2</th>\n",
       "      <td>3</td>\n",
       "      <td>CA-2016-138688</td>\n",
       "      <td>2016-06-12</td>\n",
       "      <td>2016-06-16</td>\n",
       "      <td>Second Class</td>\n",
       "      <td>DV-13045</td>\n",
       "      <td>OFF-LA-10000240</td>\n",
       "      <td>14.6200</td>\n",
       "      <td>2</td>\n",
       "      <td>0.00</td>\n",
       "      <td>6.8714</td>\n",
       "    </tr>\n",
       "    <tr>\n",
       "      <th>3</th>\n",
       "      <td>4</td>\n",
       "      <td>US-2015-108966</td>\n",
       "      <td>2015-10-11</td>\n",
       "      <td>2015-10-18</td>\n",
       "      <td>Standard Class</td>\n",
       "      <td>SO-20335</td>\n",
       "      <td>FUR-TA-10000577</td>\n",
       "      <td>957.5775</td>\n",
       "      <td>5</td>\n",
       "      <td>0.45</td>\n",
       "      <td>-383.0310</td>\n",
       "    </tr>\n",
       "    <tr>\n",
       "      <th>4</th>\n",
       "      <td>5</td>\n",
       "      <td>US-2015-108966</td>\n",
       "      <td>2015-10-11</td>\n",
       "      <td>2015-10-18</td>\n",
       "      <td>Standard Class</td>\n",
       "      <td>SO-20335</td>\n",
       "      <td>OFF-ST-10000760</td>\n",
       "      <td>22.3680</td>\n",
       "      <td>2</td>\n",
       "      <td>0.20</td>\n",
       "      <td>2.5164</td>\n",
       "    </tr>\n",
       "  </tbody>\n",
       "</table>\n",
       "</div>"
      ],
      "text/plain": [
       "   Order Line        Order ID  Order Date   Ship Date       Ship Mode  \\\n",
       "0           1  CA-2016-152156  2016-11-08  2016-11-11    Second Class   \n",
       "1           2  CA-2016-152156  2016-11-08  2016-11-11    Second Class   \n",
       "2           3  CA-2016-138688  2016-06-12  2016-06-16    Second Class   \n",
       "3           4  US-2015-108966  2015-10-11  2015-10-18  Standard Class   \n",
       "4           5  US-2015-108966  2015-10-11  2015-10-18  Standard Class   \n",
       "\n",
       "  Customer ID       Product ID     Sales  Quantity  Discount    Profit  \n",
       "0    CG-12520  FUR-BO-10001798  261.9600         2      0.00   41.9136  \n",
       "1    CG-12520  FUR-CH-10000454  731.9400         3      0.00  219.5820  \n",
       "2    DV-13045  OFF-LA-10000240   14.6200         2      0.00    6.8714  \n",
       "3    SO-20335  FUR-TA-10000577  957.5775         5      0.45 -383.0310  \n",
       "4    SO-20335  OFF-ST-10000760   22.3680         2      0.20    2.5164  "
      ]
     },
     "execution_count": 6,
     "metadata": {},
     "output_type": "execute_result"
    }
   ],
   "source": [
    "df = pd.read_csv(r'C:\\Users\\Engr.NSamuel\\Desktop\\Sales.csv')\n",
    "df.head()\n"
   ]
  },
  {
   "cell_type": "code",
   "execution_count": 16,
   "id": "8650374f-1ba9-469e-bfe7-f5d1673fed2f",
   "metadata": {},
   "outputs": [
    {
     "data": {
      "text/html": [
       "<div>\n",
       "<style scoped>\n",
       "    .dataframe tbody tr th:only-of-type {\n",
       "        vertical-align: middle;\n",
       "    }\n",
       "\n",
       "    .dataframe tbody tr th {\n",
       "        vertical-align: top;\n",
       "    }\n",
       "\n",
       "    .dataframe thead th {\n",
       "        text-align: right;\n",
       "    }\n",
       "</style>\n",
       "<table border=\"1\" class=\"dataframe\">\n",
       "  <thead>\n",
       "    <tr style=\"text-align: right;\">\n",
       "      <th></th>\n",
       "      <th>Order Line</th>\n",
       "      <th>Sales</th>\n",
       "      <th>Quantity</th>\n",
       "      <th>Discount</th>\n",
       "      <th>Profit</th>\n",
       "    </tr>\n",
       "  </thead>\n",
       "  <tbody>\n",
       "    <tr>\n",
       "      <th>count</th>\n",
       "      <td>9994.000000</td>\n",
       "      <td>9994.000000</td>\n",
       "      <td>9994.000000</td>\n",
       "      <td>9994.000000</td>\n",
       "      <td>9994.000000</td>\n",
       "    </tr>\n",
       "    <tr>\n",
       "      <th>mean</th>\n",
       "      <td>4997.500000</td>\n",
       "      <td>229.858001</td>\n",
       "      <td>3.789574</td>\n",
       "      <td>0.156203</td>\n",
       "      <td>28.656896</td>\n",
       "    </tr>\n",
       "    <tr>\n",
       "      <th>std</th>\n",
       "      <td>2885.163629</td>\n",
       "      <td>623.245101</td>\n",
       "      <td>2.225110</td>\n",
       "      <td>0.206452</td>\n",
       "      <td>234.260108</td>\n",
       "    </tr>\n",
       "    <tr>\n",
       "      <th>min</th>\n",
       "      <td>1.000000</td>\n",
       "      <td>0.444000</td>\n",
       "      <td>1.000000</td>\n",
       "      <td>0.000000</td>\n",
       "      <td>-6599.978000</td>\n",
       "    </tr>\n",
       "    <tr>\n",
       "      <th>25%</th>\n",
       "      <td>2499.250000</td>\n",
       "      <td>17.280000</td>\n",
       "      <td>2.000000</td>\n",
       "      <td>0.000000</td>\n",
       "      <td>1.728750</td>\n",
       "    </tr>\n",
       "    <tr>\n",
       "      <th>50%</th>\n",
       "      <td>4997.500000</td>\n",
       "      <td>54.490000</td>\n",
       "      <td>3.000000</td>\n",
       "      <td>0.200000</td>\n",
       "      <td>8.666500</td>\n",
       "    </tr>\n",
       "    <tr>\n",
       "      <th>75%</th>\n",
       "      <td>7495.750000</td>\n",
       "      <td>209.940000</td>\n",
       "      <td>5.000000</td>\n",
       "      <td>0.200000</td>\n",
       "      <td>29.364000</td>\n",
       "    </tr>\n",
       "    <tr>\n",
       "      <th>max</th>\n",
       "      <td>9994.000000</td>\n",
       "      <td>22638.480000</td>\n",
       "      <td>14.000000</td>\n",
       "      <td>0.800000</td>\n",
       "      <td>8399.976000</td>\n",
       "    </tr>\n",
       "  </tbody>\n",
       "</table>\n",
       "</div>"
      ],
      "text/plain": [
       "        Order Line         Sales     Quantity     Discount       Profit\n",
       "count  9994.000000   9994.000000  9994.000000  9994.000000  9994.000000\n",
       "mean   4997.500000    229.858001     3.789574     0.156203    28.656896\n",
       "std    2885.163629    623.245101     2.225110     0.206452   234.260108\n",
       "min       1.000000      0.444000     1.000000     0.000000 -6599.978000\n",
       "25%    2499.250000     17.280000     2.000000     0.000000     1.728750\n",
       "50%    4997.500000     54.490000     3.000000     0.200000     8.666500\n",
       "75%    7495.750000    209.940000     5.000000     0.200000    29.364000\n",
       "max    9994.000000  22638.480000    14.000000     0.800000  8399.976000"
      ]
     },
     "execution_count": 16,
     "metadata": {},
     "output_type": "execute_result"
    }
   ],
   "source": [
    "df.describe()"
   ]
  },
  {
   "cell_type": "code",
   "execution_count": 7,
   "id": "4f924ae1-5d49-42b7-ad7c-bbaa3bb37b46",
   "metadata": {},
   "outputs": [
    {
     "data": {
      "text/plain": [
       "109934"
      ]
     },
     "execution_count": 7,
     "metadata": {},
     "output_type": "execute_result"
    }
   ],
   "source": [
    "df.size"
   ]
  },
  {
   "cell_type": "code",
   "execution_count": 9,
   "id": "0b69f0db-96b1-47d9-8dbb-547c3a0705f4",
   "metadata": {},
   "outputs": [
    {
     "data": {
      "text/plain": [
       "Index(['Order Line', 'Order ID', 'Order Date', 'Ship Date', 'Ship Mode',\n",
       "       'Customer ID', 'Product ID', 'Sales', 'Quantity', 'Discount', 'Profit'],\n",
       "      dtype='object')"
      ]
     },
     "execution_count": 9,
     "metadata": {},
     "output_type": "execute_result"
    }
   ],
   "source": [
    "df.columns"
   ]
  },
  {
   "cell_type": "code",
   "execution_count": 11,
   "id": "27003251-f5c7-4f24-b6d2-fe47f37a628c",
   "metadata": {},
   "outputs": [
    {
     "data": {
      "text/plain": [
       "RangeIndex(start=0, stop=9994, step=1)"
      ]
     },
     "execution_count": 11,
     "metadata": {},
     "output_type": "execute_result"
    }
   ],
   "source": [
    "df.index"
   ]
  },
  {
   "cell_type": "code",
   "execution_count": 13,
   "id": "0403910b-6d1e-410b-aaa0-650f5b8e73a4",
   "metadata": {},
   "outputs": [
    {
     "data": {
      "text/plain": [
       "(9994, 11)"
      ]
     },
     "execution_count": 13,
     "metadata": {},
     "output_type": "execute_result"
    }
   ],
   "source": [
    "df.shape"
   ]
  },
  {
   "cell_type": "code",
   "execution_count": 15,
   "id": "0fe7dae6-cbe8-422b-85b0-b0686bf3bb1c",
   "metadata": {},
   "outputs": [
    {
     "data": {
      "text/plain": [
       "Order Line       int64\n",
       "Order ID        object\n",
       "Order Date      object\n",
       "Ship Date       object\n",
       "Ship Mode       object\n",
       "Customer ID     object\n",
       "Product ID      object\n",
       "Sales          float64\n",
       "Quantity         int64\n",
       "Discount       float64\n",
       "Profit         float64\n",
       "dtype: object"
      ]
     },
     "execution_count": 15,
     "metadata": {},
     "output_type": "execute_result"
    }
   ],
   "source": [
    "df.dtypes"
   ]
  },
  {
   "cell_type": "code",
   "execution_count": 27,
   "id": "7ca5d99b-f28d-4413-b9ff-d6520baee279",
   "metadata": {},
   "outputs": [
    {
     "data": {
      "text/plain": [
       "<bound method NDFrame.tail of       Order Line        Order ID  Order Date   Ship Date       Ship Mode  \\\n",
       "0              1  CA-2016-152156  2016-11-08  2016-11-11    Second Class   \n",
       "1              2  CA-2016-152156  2016-11-08  2016-11-11    Second Class   \n",
       "2              3  CA-2016-138688  2016-06-12  2016-06-16    Second Class   \n",
       "3              4  US-2015-108966  2015-10-11  2015-10-18  Standard Class   \n",
       "4              5  US-2015-108966  2015-10-11  2015-10-18  Standard Class   \n",
       "...          ...             ...         ...         ...             ...   \n",
       "9989        9990  CA-2014-110422  2014-01-21  2014-01-23    Second Class   \n",
       "9990        9991  CA-2017-121258  2017-02-26  2017-03-03  Standard Class   \n",
       "9991        9992  CA-2017-121258  2017-02-26  2017-03-03  Standard Class   \n",
       "9992        9993  CA-2017-121258  2017-02-26  2017-03-03  Standard Class   \n",
       "9993        9994  CA-2017-119914  2017-05-04  2017-05-09    Second Class   \n",
       "\n",
       "     Customer ID       Product ID     Sales  Quantity  Discount    Profit  \\\n",
       "0       CG-12520  FUR-BO-10001798  261.9600         2      0.00   41.9136   \n",
       "1       CG-12520  FUR-CH-10000454  731.9400         3      0.00  219.5820   \n",
       "2       DV-13045  OFF-LA-10000240   14.6200         2      0.00    6.8714   \n",
       "3       SO-20335  FUR-TA-10000577  957.5775         5      0.45 -383.0310   \n",
       "4       SO-20335  OFF-ST-10000760   22.3680         2      0.20    2.5164   \n",
       "...          ...              ...       ...       ...       ...       ...   \n",
       "9989    TB-21400  FUR-FU-10001889   25.2480         3      0.20    4.1028   \n",
       "9990    DB-13060  FUR-FU-10000747   91.9600         2      0.00   15.6332   \n",
       "9991    DB-13060  TEC-PH-10003645  258.5760         2      0.20   19.3932   \n",
       "9992    DB-13060  OFF-PA-10004041   29.6000         4      0.00   13.3200   \n",
       "9993    CC-12220  OFF-AP-10002684  243.1600         2      0.00   72.9480   \n",
       "\n",
       "      Normalized  Sales  \n",
       "0              0.011552  \n",
       "1              0.032313  \n",
       "2              0.000626  \n",
       "3              0.042280  \n",
       "4              0.000968  \n",
       "...                 ...  \n",
       "9989           0.001096  \n",
       "9990           0.004043  \n",
       "9991           0.011403  \n",
       "9992           0.001288  \n",
       "9993           0.010722  \n",
       "\n",
       "[9994 rows x 12 columns]>"
      ]
     },
     "execution_count": 27,
     "metadata": {},
     "output_type": "execute_result"
    }
   ],
   "source": [
    "df.tail"
   ]
  },
  {
   "cell_type": "code",
   "execution_count": 19,
   "id": "a44efe7a-ed31-4b5c-9687-b266833ddb38",
   "metadata": {},
   "outputs": [
    {
     "data": {
      "text/plain": [
       "<Axes: >"
      ]
     },
     "execution_count": 19,
     "metadata": {},
     "output_type": "execute_result"
    },
    {
     "data": {
      "image/png": "[encoded data removed]",
      "text/plain": [
       "<Figure size 640x480 with 1 Axes>"
      ]
     },
     "metadata": {},
     "output_type": "display_data"
    }
   ],
   "source": [
    "df.plot()"
   ]
  },
  {
   "cell_type": "code",
   "execution_count": 8,
   "id": "c56aee6f-aa39-4ce8-a914-aa2818996809",
   "metadata": {},
   "outputs": [
    {
     "name": "stdout",
     "output_type": "stream",
     "text": [
      "      Order Line        Order ID  Order Date   Ship Date       Ship Mode  \\\n",
      "0              1  CA-2016-152156  2016-11-08  2016-11-11    Second Class   \n",
      "1              2  CA-2016-152156  2016-11-08  2016-11-11    Second Class   \n",
      "2              3  CA-2016-138688  2016-06-12  2016-06-16    Second Class   \n",
      "3              4  US-2015-108966  2015-10-11  2015-10-18  Standard Class   \n",
      "4              5  US-2015-108966  2015-10-11  2015-10-18  Standard Class   \n",
      "...          ...             ...         ...         ...             ...   \n",
      "9989        9990  CA-2014-110422  2014-01-21  2014-01-23    Second Class   \n",
      "9990        9991  CA-2017-121258  2017-02-26  2017-03-03  Standard Class   \n",
      "9991        9992  CA-2017-121258  2017-02-26  2017-03-03  Standard Class   \n",
      "9992        9993  CA-2017-121258  2017-02-26  2017-03-03  Standard Class   \n",
      "9993        9994  CA-2017-119914  2017-05-04  2017-05-09    Second Class   \n",
      "\n",
      "     Customer ID       Product ID     Sales  Quantity  Discount    Profit  \n",
      "0       CG-12520  FUR-BO-10001798  261.9600         2      0.00   41.9136  \n",
      "1       CG-12520  FUR-CH-10000454  731.9400         3      0.00  219.5820  \n",
      "2       DV-13045  OFF-LA-10000240   14.6200         2      0.00    6.8714  \n",
      "3       SO-20335  FUR-TA-10000577  957.5775         5      0.45 -383.0310  \n",
      "4       SO-20335  OFF-ST-10000760   22.3680         2      0.20    2.5164  \n",
      "...          ...              ...       ...       ...       ...       ...  \n",
      "9989    TB-21400  FUR-FU-10001889   25.2480         3      0.20    4.1028  \n",
      "9990    DB-13060  FUR-FU-10000747   91.9600         2      0.00   15.6332  \n",
      "9991    DB-13060  TEC-PH-10003645  258.5760         2      0.20   19.3932  \n",
      "9992    DB-13060  OFF-PA-10004041   29.6000         4      0.00   13.3200  \n",
      "9993    CC-12220  OFF-AP-10002684  243.1600         2      0.00   72.9480  \n",
      "\n",
      "[9994 rows x 11 columns]\n"
     ]
    }
   ],
   "source": [
    "# Remove duplicate row\n",
    "df.shape\n",
    "df = df.drop_duplicates()\n",
    "print(df)"
   ]
  },
  {
   "cell_type": "code",
   "execution_count": 20,
   "id": "fc3575f4-026e-426c-ab5c-1196b6e79853",
   "metadata": {},
   "outputs": [
    {
     "name": "stdout",
     "output_type": "stream",
     "text": [
      "Order Line     0\n",
      "Order ID       0\n",
      "Order Date     0\n",
      "Ship Date      0\n",
      "Ship Mode      0\n",
      "Customer ID    0\n",
      "Product ID     0\n",
      "Sales          0\n",
      "Quantity       0\n",
      "Discount       0\n",
      "Profit         0\n",
      "dtype: int64\n",
      "Order Line     0\n",
      "Order ID       0\n",
      "Order Date     0\n",
      "Ship Date      0\n",
      "Ship Mode      0\n",
      "Customer ID    0\n",
      "Product ID     0\n",
      "Sales          0\n",
      "Quantity       0\n",
      "Discount       0\n",
      "Profit         0\n",
      "dtype: int64\n",
      "Order Line     0\n",
      "Order ID       0\n",
      "Order Date     0\n",
      "Ship Date      0\n",
      "Ship Mode      0\n",
      "Customer ID    0\n",
      "Product ID     0\n",
      "Sales          0\n",
      "Quantity       0\n",
      "Discount       0\n",
      "Profit         0\n",
      "dtype: int64\n"
     ]
    }
   ],
   "source": [
    "# Check for missing values in the modified DataFrame\n",
    "missing_values_filled = df.isnull().sum()\n",
    "missing_values_dropped_rows = df.isnull().sum()\n",
    "missing_values_dropped_columns = df.isnull().sum()\n",
    "\n",
    "print(missing_values_filled)\n",
    "print(missing_values_dropped_rows)\n",
    "print(missing_values_dropped_columns)"
   ]
  },
  {
   "cell_type": "code",
   "execution_count": 59,
   "id": "c1dc125d-940a-43dd-9101-38658e425534",
   "metadata": {},
   "outputs": [
    {
     "name": "stdout",
     "output_type": "stream",
     "text": [
      "<class 'pandas.core.frame.DataFrame'>\n",
      "RangeIndex: 9994 entries, 0 to 9993\n",
      "Data columns (total 11 columns):\n",
      " #   Column       Non-Null Count  Dtype  \n",
      "---  ------       --------------  -----  \n",
      " 0   Order Line   9994 non-null   int64  \n",
      " 1   Order ID     9994 non-null   object \n",
      " 2   Order Date   9994 non-null   object \n",
      " 3   Ship Date    9994 non-null   object \n",
      " 4   Ship Mode    9994 non-null   object \n",
      " 5   Customer ID  9994 non-null   object \n",
      " 6   Product ID   9994 non-null   object \n",
      " 7   Sales        9994 non-null   float64\n",
      " 8   Quantity     9994 non-null   int64  \n",
      " 9   Discount     9994 non-null   float64\n",
      " 10  Profit       9994 non-null   float64\n",
      "dtypes: float64(3), int64(2), object(6)\n",
      "memory usage: 859.0+ KB\n",
      "   Order Line        Order ID  Order Date   Ship Date       Ship Mode  \\\n",
      "0           1  CA-2016-152156  2016-11-08  2016-11-11    Second Class   \n",
      "1           2  CA-2016-152156  2016-11-08  2016-11-11    Second Class   \n",
      "2           3  CA-2016-138688  2016-06-12  2016-06-16    Second Class   \n",
      "3           4  US-2015-108966  2015-10-11  2015-10-18  Standard Class   \n",
      "4           5  US-2015-108966  2015-10-11  2015-10-18  Standard Class   \n",
      "\n",
      "  Customer ID       Product ID     Sales  Quantity  Discount    Profit  \n",
      "0    CG-12520  FUR-BO-10001798  261.9600         2      0.00   41.9136  \n",
      "1    CG-12520  FUR-CH-10000454  731.9400         3      0.00  219.5820  \n",
      "2    DV-13045  OFF-LA-10000240   14.6200         2      0.00    6.8714  \n",
      "3    SO-20335  FUR-TA-10000577  957.5775         5      0.45 -383.0310  \n",
      "4    SO-20335  OFF-ST-10000760   22.3680         2      0.20    2.5164  \n"
     ]
    }
   ],
   "source": [
    "df.info()\n",
    "print(df[:5])"
   ]
  },
  {
   "cell_type": "code",
   "execution_count": 24,
   "id": "19197619-400a-4448-ae48-1cc4bc4e1dd2",
   "metadata": {},
   "outputs": [
    {
     "name": "stdout",
     "output_type": "stream",
     "text": [
      "total sales: 9994\n"
     ]
    }
   ],
   "source": [
    "# Calculate the total number of sale records in the dataset\n",
    "total_sale = len(df)\n",
    "print(f\"total sales: {total_sale}\")"
   ]
  },
  {
   "cell_type": "code",
   "execution_count": 26,
   "id": "30864c34-fb8e-46bb-abb0-83111aef866e",
   "metadata": {},
   "outputs": [
    {
     "name": "stdout",
     "output_type": "stream",
     "text": [
      "Total:2297200.8603000003\n"
     ]
    }
   ],
   "source": [
    "# find the total revenue generated in all sale \n",
    "total_revenue = np.sum(df[\"Sales\"])\n",
    "print(f\"Total:{total_revenue}\")"
   ]
  },
  {
   "cell_type": "code",
   "execution_count": 28,
   "id": "77111796-a35e-4d4f-9d48-33c0ee96fceb",
   "metadata": {},
   "outputs": [
    {
     "name": "stdout",
     "output_type": "stream",
     "text": [
      "Total:229.85800083049833\n"
     ]
    }
   ],
   "source": [
    "#o\tCalculate the average number of units sold per transaction.\n",
    "Avrg_unit_sold = np.mean(df[\"Sales\"])\n",
    "print(f\"Total:{Avrg_unit_sold}\")"
   ]
  },
  {
   "cell_type": "code",
   "execution_count": 60,
   "id": "70751a9b-7dfa-41a3-9f3e-522f7efa1d8f",
   "metadata": {},
   "outputs": [
    {
     "name": "stdout",
     "output_type": "stream",
     "text": [
      "-6599.978\n"
     ]
    }
   ],
   "source": [
    "#\tDetermine the highest total sales Profit revenue.\n",
    "unique_Profit = np.unique(df[\"Profit\"])\n",
    "Profit_sales = {Profit:np.sum(df[\"Sales\"])[Profit == Profit] for Profit in unique_regions}\n",
    "highest_sales_region = max(Profit_sales, key=Profit_sales.get)\n",
    "print(highest_sales_region)"
   ]
  },
  {
   "cell_type": "code",
   "execution_count": 40,
   "id": "43069d78-1551-4d24-83b6-52431d861fa7",
   "metadata": {},
   "outputs": [
    {
     "name": "stdout",
     "output_type": "stream",
     "text": [
      "Customer ID\n",
      "AA-10315    505.778182\n",
      "AA-10375     70.426000\n",
      "AA-10480    149.209333\n",
      "AA-10645    282.607500\n",
      "AB-10015    147.692667\n",
      "               ...    \n",
      "XP-21865     84.809214\n",
      "YC-21895    681.793750\n",
      "YS-21880    560.037000\n",
      "ZC-21910    258.893774\n",
      "ZD-21925    165.993778\n",
      "Name: Sales, Length: 793, dtype: float64\n"
     ]
    }
   ],
   "source": [
    "#\tFind the average unit price for each region.\n",
    "avg_sales = df.groupby(\"Customer ID\")[\"Sales\"].mean()\n",
    "print(avg_sales)\n"
   ]
  },
  {
   "cell_type": "code",
   "execution_count": 44,
   "id": "3582bbba-aeee-48c7-bf6e-915a43c021be",
   "metadata": {},
   "outputs": [
    {
     "name": "stdout",
     "output_type": "stream",
     "text": [
      "Product ID\n",
      "FUR-BO-10000112    9\n",
      "FUR-BO-10000330    4\n",
      "FUR-BO-10000362    6\n",
      "FUR-BO-10000468    7\n",
      "FUR-BO-10000711    9\n",
      "                  ..\n",
      "TEC-PH-10004912    5\n",
      "TEC-PH-10004922    6\n",
      "TEC-PH-10004924    4\n",
      "TEC-PH-10004959    3\n",
      "TEC-PH-10004977    7\n",
      "Name: Quantity, Length: 1862, dtype: int64\n"
     ]
    }
   ],
   "source": [
    "#o\tIdentify the product category with the most units sold.\n",
    "most_unit_sold = df.groupby(\"Product ID\")[\"Quantity\"].max()\n",
    "print(most_unit_sold)"
   ]
  },
  {
   "cell_type": "code",
   "execution_count": 48,
   "id": "7da9c40e-c79b-4371-82ec-3de9cc3b09ff",
   "metadata": {},
   "outputs": [
    {
     "name": "stdout",
     "output_type": "stream",
     "text": [
      "The month with the highest sales revenue is 2014-03-18 00:00:00 with a total revenue of $28106.72.\n"
     ]
    }
   ],
   "source": [
    "# Ensure the Date column is in datetime format\n",
    "df['Order Date'] = pd.to_datetime(df['Order Date'])\n",
    "\n",
    "# Extract the month and year from the Date column\n",
    "df['Ship Date'] = df['Order Date'].dt.to_period('M')\n",
    "\n",
    "# Calculate the total sales revenue for each month\n",
    "monthly_revenue = df.groupby('Order Date')['Sales'].sum()\n",
    "\n",
    "# Identify the month with the highest sales revenue\n",
    "highest_revenue_month = monthly_revenue.idxmax()\n",
    "highest_revenue = monthly_revenue.max()\n",
    "\n",
    "print(f\"The month with the highest sales revenue is {highest_revenue_month} with a total revenue of ${highest_revenue:.2f}.\")"
   ]
  },
  {
   "cell_type": "code",
   "execution_count": 50,
   "id": "10dcb682-e073-4e8c-9705-ed81acd4b5bd",
   "metadata": {},
   "outputs": [
    {
     "name": "stdout",
     "output_type": "stream",
     "text": [
      "Average daily sales revenue over the entire period: $1575.58\n"
     ]
    }
   ],
   "source": [
    "# Ensure the Date column is in datetime format\n",
    "df['Order Date'] = pd.to_datetime(df['Order Date'])\n",
    "\n",
    "# Calculate the total sales revenue\n",
    "total_revenue = df['Sales'].sum()\n",
    "\n",
    "# Calculate the number of days in the dataset\n",
    "total_days = (df['Order Date'].max() - df['Order Date'].min()).days + 1\n",
    "\n",
    "# Calculate the average daily sales revenue\n",
    "average_daily_revenue = total_revenue / total_days\n",
    "\n",
    "print(f\"Average daily sales revenue over the entire period: ${average_daily_revenue:.2f}\")"
   ]
  },
  {
   "cell_type": "code",
   "execution_count": 52,
   "id": "6b2d9661-0f3e-42fa-8c48-75f0c5c1d409",
   "metadata": {},
   "outputs": [
    {
     "name": "stdout",
     "output_type": "stream",
     "text": [
      "The correlation between Quantity and Sales is: 0.20\n"
     ]
    }
   ],
   "source": [
    "# Calculate the correlation between Quantity and Sales\n",
    "correlation = df['Quantity'].corr(df['Sales'])\n",
    "\n",
    "print(f\"The correlation between Quantity and Sales is: {correlation:.2f}\")"
   ]
  },
  {
   "cell_type": "code",
   "execution_count": 21,
   "id": "c93e7107-4adc-4ff5-9388-7c53ddbc4cdb",
   "metadata": {},
   "outputs": [
    {
     "name": "stdout",
     "output_type": "stream",
     "text": [
      "      Order Line        Order ID  Order Date   Ship Date       Ship Mode  \\\n",
      "0              1  CA-2016-152156  2016-11-08  2016-11-11    Second Class   \n",
      "1              2  CA-2016-152156  2016-11-08  2016-11-11    Second Class   \n",
      "2              3  CA-2016-138688  2016-06-12  2016-06-16    Second Class   \n",
      "3              4  US-2015-108966  2015-10-11  2015-10-18  Standard Class   \n",
      "4              5  US-2015-108966  2015-10-11  2015-10-18  Standard Class   \n",
      "...          ...             ...         ...         ...             ...   \n",
      "9989        9990  CA-2014-110422  2014-01-21  2014-01-23    Second Class   \n",
      "9990        9991  CA-2017-121258  2017-02-26  2017-03-03  Standard Class   \n",
      "9991        9992  CA-2017-121258  2017-02-26  2017-03-03  Standard Class   \n",
      "9992        9993  CA-2017-121258  2017-02-26  2017-03-03  Standard Class   \n",
      "9993        9994  CA-2017-119914  2017-05-04  2017-05-09    Second Class   \n",
      "\n",
      "     Customer ID       Product ID     Sales  Quantity  Discount    Profit  \\\n",
      "0       CG-12520  FUR-BO-10001798  261.9600         2      0.00   41.9136   \n",
      "1       CG-12520  FUR-CH-10000454  731.9400         3      0.00  219.5820   \n",
      "2       DV-13045  OFF-LA-10000240   14.6200         2      0.00    6.8714   \n",
      "3       SO-20335  FUR-TA-10000577  957.5775         5      0.45 -383.0310   \n",
      "4       SO-20335  OFF-ST-10000760   22.3680         2      0.20    2.5164   \n",
      "...          ...              ...       ...       ...       ...       ...   \n",
      "9989    TB-21400  FUR-FU-10001889   25.2480         3      0.20    4.1028   \n",
      "9990    DB-13060  FUR-FU-10000747   91.9600         2      0.00   15.6332   \n",
      "9991    DB-13060  TEC-PH-10003645  258.5760         2      0.20   19.3932   \n",
      "9992    DB-13060  OFF-PA-10004041   29.6000         4      0.00   13.3200   \n",
      "9993    CC-12220  OFF-AP-10002684  243.1600         2      0.00   72.9480   \n",
      "\n",
      "      Normalized  Sales  \n",
      "0              0.011552  \n",
      "1              0.032313  \n",
      "2              0.000626  \n",
      "3              0.042280  \n",
      "4              0.000968  \n",
      "...                 ...  \n",
      "9989           0.001096  \n",
      "9990           0.004043  \n",
      "9991           0.011403  \n",
      "9992           0.001288  \n",
      "9993           0.010722  \n",
      "\n",
      "[9994 rows x 12 columns]\n"
     ]
    }
   ],
   "source": [
    "# Normalize the Total Sales data\n",
    "min_sales = df['Sales'].min()\n",
    "max_sales = df['Sales'].max()\n",
    "df['Normalized  Sales'] = (df['Sales'] - min_sales) / (max_sales - min_sales)\n",
    "\n",
    "# Display the DataFrame with the normalized Total Sales column\n",
    "print(df)"
   ]
  },
  {
   "cell_type": "code",
   "execution_count": 10,
   "id": "f44e3b4c-eb02-4c5f-81b0-d1d03475466e",
   "metadata": {},
   "outputs": [
    {
     "data": {
      "text/plain": [
       "count               9994\n",
       "unique              5009\n",
       "top       CA-2017-100111\n",
       "freq                  14\n",
       "Name: Order ID, dtype: object"
      ]
     },
     "execution_count": 10,
     "metadata": {},
     "output_type": "execute_result"
    }
   ],
   "source": [
    "df['Order ID'].describe()"
   ]
  },
  {
   "cell_type": "code",
   "execution_count": 25,
   "id": "50ced1dd-87d1-48f9-860c-ffbafee8e3bd",
   "metadata": {},
   "outputs": [
    {
     "data": {
      "text/plain": [
       "count     9994.000000\n",
       "mean       229.858001\n",
       "std        623.245101\n",
       "min          0.444000\n",
       "25%         17.280000\n",
       "50%         54.490000\n",
       "75%        209.940000\n",
       "max      22638.480000\n",
       "Name: Sales, dtype: float64"
      ]
     },
     "execution_count": 25,
     "metadata": {},
     "output_type": "execute_result"
    }
   ],
   "source": [
    "df['Sales'].describe()"
   ]
  },
  {
   "cell_type": "code",
   "execution_count": 16,
   "id": "f320b43f-dc15-4ff7-a87e-31a8012e79f9",
   "metadata": {},
   "outputs": [
    {
     "data": {
      "text/plain": [
       "229.85800083049833"
      ]
     },
     "execution_count": 16,
     "metadata": {},
     "output_type": "execute_result"
    }
   ],
   "source": [
    "df['Sales'].mean()"
   ]
  },
  {
   "cell_type": "code",
   "execution_count": 18,
   "id": "13744013-6169-4b87-8605-f84d51c7db5a",
   "metadata": {},
   "outputs": [
    {
     "data": {
      "text/plain": [
       "54.489999999999995"
      ]
     },
     "execution_count": 18,
     "metadata": {},
     "output_type": "execute_result"
    }
   ],
   "source": [
    "df['Sales'].median()"
   ]
  },
  {
   "cell_type": "code",
   "execution_count": 8,
   "id": "9d20ffee-28a4-4ff1-99ea-d1c288b9021d",
   "metadata": {},
   "outputs": [
    {
     "data": {
      "text/plain": [
       "<Axes: ylabel='Density'>"
      ]
     },
     "execution_count": 8,
     "metadata": {},
     "output_type": "execute_result"
    },
    {
     "data": {
      "image/png": "[encoded data removed]",
      "text/plain": [
       "<Figure size 1200x600 with 1 Axes>"
      ]
     },
     "metadata": {},
     "output_type": "display_data"
    }
   ],
   "source": [
    "df['Sales'].plot(kind='density', figsize=(12,6))"
   ]
  },
  {
   "cell_type": "code",
   "execution_count": 34,
   "id": "55d83535-51a6-48eb-ba12-ea2aebd5e4f8",
   "metadata": {},
   "outputs": [
    {
     "data": {
      "text/plain": [
       "<Axes: ylabel='Density'>"
      ]
     },
     "execution_count": 34,
     "metadata": {},
     "output_type": "execute_result"
    },
    {
     "data": {
      "image/png": "[encoded data removed]",
      "text/plain": [
       "<Figure size 1400x600 with 1 Axes>"
      ]
     },
     "metadata": {},
     "output_type": "display_data"
    }
   ],
   "source": [
    "df['Profit'].plot(kind='density', figsize=(14,6))"
   ]
  },
  {
   "cell_type": "code",
   "execution_count": 41,
   "id": "ad5bac88-2cde-431a-a43d-884f6dce4a09",
   "metadata": {},
   "outputs": [
    {
     "data": {
      "text/plain": [
       "Profit\n",
       "0.0000     65\n",
       "6.2208     43\n",
       "9.3312     38\n",
       "5.4432     32\n",
       "3.6288     32\n",
       "           ..\n",
       "83.2508     1\n",
       "16.1096     1\n",
       "7.1988      1\n",
       "1.6510      1\n",
       "72.9480     1\n",
       "Name: count, Length: 7287, dtype: int64"
      ]
     },
     "execution_count": 41,
     "metadata": {},
     "output_type": "execute_result"
    }
   ],
   "source": [
    "df['Profit'].value_counts()"
   ]
  },
  {
   "cell_type": "code",
   "execution_count": 43,
   "id": "7f68932e-710b-41fa-bf26-82c09495270c",
   "metadata": {},
   "outputs": [
    {
     "data": {
      "text/plain": [
       "Sales\n",
       "12.960     56\n",
       "19.440     39\n",
       "15.552     39\n",
       "25.920     36\n",
       "10.368     36\n",
       "           ..\n",
       "4.240       1\n",
       "319.960     1\n",
       "646.740     1\n",
       "81.940      1\n",
       "243.160     1\n",
       "Name: count, Length: 5825, dtype: int64"
      ]
     },
     "execution_count": 43,
     "metadata": {},
     "output_type": "execute_result"
    }
   ],
   "source": [
    "df['Sales'].value_counts()"
   ]
  },
  {
   "cell_type": "code",
   "execution_count": 55,
   "id": "6f9ff691-6907-49b7-842a-cdaf3bd21c6f",
   "metadata": {},
   "outputs": [
    {
     "data": {
      "text/plain": [
       "Text(0, 0.5, 'Profit')"
      ]
     },
     "execution_count": 55,
     "metadata": {},
     "output_type": "execute_result"
    },
    {
     "data": {
      "image/png": "[encoded data removed]",
      "text/plain": [
       "<Figure size 1400x600 with 1 Axes>"
      ]
     },
     "metadata": {},
     "output_type": "display_data"
    }
   ],
   "source": [
    "ax = df['Quantity'].value_counts().plot(kind='bar', figsize=(14,6))\n",
    "ax.set_ylabel('Profit')"
   ]
  },
  {
   "cell_type": "code",
   "execution_count": 6,
   "id": "6bbbb095-906a-43ba-8313-689ecb18f9d9",
   "metadata": {},
   "outputs": [
    {
     "name": "stdout",
     "output_type": "stream",
     "text": [
      "Defaulting to user installation because normal site-packages is not writeable\n",
      "Requirement already satisfied: folium in c:\\users\\engr.nsamuel\\appdata\\roaming\\python\\python312\\site-packages (0.18.0)\n",
      "Requirement already satisfied: branca>=0.6.0 in c:\\users\\engr.nsamuel\\appdata\\roaming\\python\\python312\\site-packages (from folium) (0.8.0)\n",
      "Requirement already satisfied: jinja2>=2.9 in c:\\programdata\\anaconda3\\lib\\site-packages (from folium) (3.1.4)\n",
      "Requirement already satisfied: numpy in c:\\programdata\\anaconda3\\lib\\site-packages (from folium) (1.26.4)\n",
      "Requirement already satisfied: requests in c:\\programdata\\anaconda3\\lib\\site-packages (from folium) (2.32.2)\n",
      "Requirement already satisfied: xyzservices in c:\\programdata\\anaconda3\\lib\\site-packages (from folium) (2022.9.0)\n",
      "Requirement already satisfied: MarkupSafe>=2.0 in c:\\programdata\\anaconda3\\lib\\site-packages (from jinja2>=2.9->folium) (2.1.3)\n",
      "Requirement already satisfied: charset-normalizer<4,>=2 in c:\\programdata\\anaconda3\\lib\\site-packages (from requests->folium) (2.0.4)\n",
      "Requirement already satisfied: idna<4,>=2.5 in c:\\programdata\\anaconda3\\lib\\site-packages (from requests->folium) (3.7)\n",
      "Requirement already satisfied: urllib3<3,>=1.21.1 in c:\\programdata\\anaconda3\\lib\\site-packages (from requests->folium) (2.2.2)\n",
      "Requirement already satisfied: certifi>=2017.4.17 in c:\\programdata\\anaconda3\\lib\\site-packages (from requests->folium) (2024.8.30)\n"
     ]
    }
   ],
   "source": [
    "!pip install folium\n"
   ]
  },
  {
   "cell_type": "code",
   "execution_count": 10,
   "id": "ee985cbd-b5e5-4f92-9031-0caa7e933f21",
   "metadata": {},
   "outputs": [],
   "source": [
    "import folium\n",
    "\n",
    "# Create a map centered around Lagos, Nigeria\n",
    "map = folium.Map(location=[6.5244, 3.3792], zoom_start=10)  # Lagos, Nigeria\n",
    "\n",
    "# Add markers\n",
    "locations = [[6.5244, 3.3792], [6.454, 3.4067], [6.4500, 3.4000]]\n",
    "names = ['Mainland', 'Island', 'Ikoyi']\n",
    "\n",
    "for loc, name in zip(locations, names):\n",
    "    folium.Marker(location=loc, popup=name).add_to(map)\n",
    "\n",
    "# Save the map to an HTML file\n",
    "map.save(\"lagos_map.html\")"
   ]
  },
  {
   "cell_type": "code",
   "execution_count": null,
   "id": "d790abad-7f71-4c42-87ab-3941310b74a3",
   "metadata": {},
   "outputs": [],
   "source": []
  }
 ],
 "metadata": {
  "kernelspec": {
   "display_name": "Python 3 (ipykernel)",
   "language": "python",
   "name": "python3"
  },
  "language_info": {
   "codemirror_mode": {
    "name": "ipython",
    "version": 3
   },
   "file_extension": ".py",
   "mimetype": "text/x-python",
   "name": "python",
   "nbconvert_exporter": "python",
   "pygments_lexer": "ipython3",
   "version": "3.12.4"
  }
 },
 "nbformat": 4,
 "nbformat_minor": 5
}
