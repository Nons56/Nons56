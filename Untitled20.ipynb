{
 "cells": [
  {
   "cell_type": "code",
   "execution_count": 1,
   "id": "528a347a-d987-497b-9b4c-ad7382c3c974",
   "metadata": {},
   "outputs": [],
   "source": [
    "import pandas as pd"
   ]
  },
  {
   "cell_type": "code",
   "execution_count": 3,
   "id": "a70442b2-af1c-4d93-aa76-abf8034e0dd9",
   "metadata": {},
   "outputs": [
    {
     "name": "stdout",
     "output_type": "stream",
     "text": [
      "     Title   Genre  Year  IMDb Rating  Revenue (Millions)  Runtime (Minutes)\n",
      "0  Movie A  Action  2010          7.5                 150                120\n",
      "1  Movie B  Comedy  2012          6.2                  50                 90\n",
      "2  Movie C   Drama  2014          8.1                 200                140\n",
      "3  Movie D  Action  2016          5.9                  75                110\n",
      "4  Movie E   Drama  2018          7.8                 180                130\n",
      "   Product_ID     Category Region  Sales  Price Store\n",
      "0           1  Electronics  North    500    100     A\n",
      "1           2     Clothing  South    300     50     B\n",
      "2           3  Electronics   East    200     75     A\n",
      "3           4    Groceries   West    400     30     C\n",
      "4           5    Groceries  North    150     25     D\n",
      "   Product_ID  Revenue  Discount Store\n",
      "0           1      700        10     A\n",
      "1           2      400        15     B\n",
      "2           3      250         5     A\n",
      "3           4      500         0     C\n",
      "4           5      180        20     B\n"
     ]
    }
   ],
   "source": [
    "# Sample movie dataset for exercises\n",
    "movies_df = pd.DataFrame({\n",
    "'Title': ['Movie A', 'Movie B', 'Movie C', 'Movie D', 'Movie E'],\n",
    "'Genre': ['Action', 'Comedy', 'Drama', 'Action', 'Drama'],\n",
    "'Year': [2010, 2012, 2014, 2016, 2018],\n",
    "'IMDb Rating': [7.5, 6.2, 8.1, 5.9, 7.8],\n",
    "'Revenue (Millions)': [150, 50, 200, 75, 180],\n",
    "'Runtime (Minutes)': [120, 90, 140, 110, 130]\n",
    "})\n",
    "# Display sample data\n",
    "print(movies_df)\n",
    "\n",
    "### Datasets 2:\n",
    "# Sample dataset for exercises\n",
    "data1 = pd.DataFrame({\n",
    "'Product_ID': [1, 2, 3, 4, 5],\n",
    "'Category': ['Electronics', 'Clothing', 'Electronics', 'Groceries', 'Groceries'],\n",
    "'Region': ['North', 'South', 'East', 'West', 'North'],\n",
    "'Sales': [500, 300, 200, 400, 150],\n",
    "'Price': [100, 50, 75, 30, 25],\n",
    "'Store': ['A', 'B', 'A', 'C', 'D']\n",
    "})\n",
    "data2 = pd.DataFrame({\n",
    "'Product_ID': [1, 2, 3, 4, 5],\n",
    "'Revenue': [700, 400, 250, 500, 180],\n",
    "'Discount': [10, 15, 5, 0, 20],\n",
    "'Store': ['A', 'B', 'A', 'C', 'B']\n",
    "})\n",
    "# Display sample data\n",
    "print(data1)\n",
    "print(data2)"
   ]
  },
  {
   "cell_type": "code",
   "execution_count": 27,
   "id": "9a828b11-d817-4906-b7fd-0472fd693b72",
   "metadata": {},
   "outputs": [
    {
     "name": "stdout",
     "output_type": "stream",
     "text": [
      "   Product_ID     Category Region  Sales  Price  Revenue  Discount Store\n",
      "0           1  Electronics  North    500    100      700        10     A\n",
      "1           2     Clothing  South    300     50      400        15     B\n",
      "2           3  Electronics   East    200     75      250         5     A\n",
      "3           4    Groceries   West    400     30      500         0     C\n",
      "4           5    Groceries  North    150     25      180        20     B\n"
     ]
    }
   ],
   "source": [
    "# Inner join on 'Product_ID' column\n",
    "merged_data = pd.merge(data1, data2, on='Product_ID', how='inner')\n",
    "print(merged_data)"
   ]
  },
  {
   "cell_type": "code",
   "execution_count": 47,
   "id": "c28a5788-d4fa-426e-9877-82763d633524",
   "metadata": {},
   "outputs": [
    {
     "name": "stdout",
     "output_type": "stream",
     "text": [
      "   Product_ID     Category Region  Sales  Price  Revenue  Discount Store\n",
      "0           1  Electronics  North    500    100      700        10     A\n",
      "1           2     Clothing  South    300     50      400        15     B\n",
      "2           3  Electronics   East    200     75      250         5     A\n",
      "3           4    Groceries   West    400     30      500         0     C\n",
      "4           5    Groceries  North    150     25      180        20     B\n"
     ]
    }
   ],
   "source": [
    "# Left join on 'Product_ID' column \n",
    "merged_data = pd.merge(data1, data2, on='Product_ID', how='left') \n",
    "print(merged_data)"
   ]
  },
  {
   "cell_type": "code",
   "execution_count": 45,
   "id": "bb6e0557-8202-48d4-89ff-a02f01b42e22",
   "metadata": {},
   "outputs": [
    {
     "name": "stdout",
     "output_type": "stream",
     "text": [
      "   Product_ID     Category Region  Sales  Price  Revenue  Discount Store\n",
      "0           1  Electronics  North    500    100      700        10     A\n",
      "1           2     Clothing  South    300     50      400        15     B\n",
      "2           3  Electronics   East    200     75      250         5     A\n",
      "3           4    Groceries   West    400     30      500         0     C\n",
      "4           5    Groceries  North    150     25      180        20     B\n"
     ]
    }
   ],
   "source": [
    "# Right join on 'Product_ID' column \n",
    "merged_data = pd.merge(data1, data2, on='Product_ID', how='right') \n",
    "print(merged_data)"
   ]
  },
  {
   "cell_type": "code",
   "execution_count": 43,
   "id": "10559008-055a-481d-8fe1-da381259b417",
   "metadata": {},
   "outputs": [
    {
     "name": "stdout",
     "output_type": "stream",
     "text": [
      "   Product_ID     Category Region  Sales  Price  Revenue  Discount Store\n",
      "0           1  Electronics  North    500    100      700        10     A\n",
      "1           2     Clothing  South    300     50      400        15     B\n",
      "2           3  Electronics   East    200     75      250         5     A\n",
      "3           4    Groceries   West    400     30      500         0     C\n",
      "4           5    Groceries  North    150     25      180        20     B\n"
     ]
    }
   ],
   "source": [
    "# Right join on 'Product_ID' column \n",
    "merged_data = pd.merge(data1, data2, on='Product_ID', how='right') \n",
    "print(merged_data)"
   ]
  },
  {
   "cell_type": "code",
   "execution_count": 49,
   "id": "7f526eff-28a8-4619-98f4-8252beda5a8a",
   "metadata": {},
   "outputs": [
    {
     "name": "stdout",
     "output_type": "stream",
     "text": [
      "   Product_ID     Category Region  Sales  Price  Revenue  Discount Store\n",
      "0           1  Electronics  North    500    100      700        10     A\n",
      "1           2     Clothing  South    300     50      400        15     B\n",
      "2           3  Electronics   East    200     75      250         5     A\n",
      "3           4    Groceries   West    400     30      500         0     C\n",
      "4           5    Groceries  North    150     25      180        20     B\n"
     ]
    }
   ],
   "source": [
    "# Outer join on 'Product_ID' column \n",
    "merged_data = pd.merge(data1, data2, on='Product_ID', how='outer') \n",
    "print(merged_data)"
   ]
  },
  {
   "cell_type": "code",
   "execution_count": 5,
   "id": "d621342a-609c-4292-98c7-ad5a087bce5a",
   "metadata": {},
   "outputs": [
    {
     "name": "stdout",
     "output_type": "stream",
     "text": [
      "   Product_ID     Category Region  Sales  Price Store  Revenue  Discount\n",
      "0           1  Electronics  North    500    100     A      700        10\n",
      "1           2     Clothing  South    300     50     B      400        15\n",
      "2           3  Electronics   East    200     75     A      250         5\n",
      "3           4    Groceries   West    400     30     C      500         0\n"
     ]
    }
   ],
   "source": [
    "# Merge on 'Product_ID' and 'Store' columns \n",
    "merged_data = pd.merge(data1, data2, on=['Product_ID','Store'], how='inner')\n",
    "print(merged_data)"
   ]
  },
  {
   "cell_type": "code",
   "execution_count": 55,
   "id": "0d2eeb4d-1b55-4761-b50b-864b990fc87f",
   "metadata": {},
   "outputs": [
    {
     "name": "stdout",
     "output_type": "stream",
     "text": [
      "   Product_ID     Category Region  Sales  Price  Revenue  Discount Store\n",
      "0           1  Electronics  North    500    100      700        10     A\n",
      "1           2     Clothing  South    300     50      400        15     B\n",
      "3           4    Groceries   West    400     30      500         0     C\n"
     ]
    }
   ],
   "source": [
    "# Merge on 'Product_ID' column\n",
    "merged_data = pd.merge(data1, data2, on='Product_ID', how='inner') \n",
    "# Filter to show only products where Sales > 200 and Revenue > 300 \n",
    "filtered_data = merged_data[(merged_data['Sales'] > 200) & (merged_data['Revenue'] > 300)]\n",
    "print(filtered_data)"
   ]
  },
  {
   "cell_type": "code",
   "execution_count": 57,
   "id": "cf1dede1-af7e-43ad-850d-b7653e007664",
   "metadata": {},
   "outputs": [
    {
     "name": "stdout",
     "output_type": "stream",
     "text": [
      "   Product_ID     Category Region  Sales  Price  Revenue  Discount Store\n",
      "0           1  Electronics  North    500    100      700        10     A\n",
      "1           2     Clothing  South    300     50      400        15     B\n",
      "2           3  Electronics   East    200     75      250         5     A\n",
      "3           4    Groceries   West    400     30      500         0     C\n",
      "4           5    Groceries  North    150     25      180        20     B\n"
     ]
    }
   ],
   "source": [
    "# Merge on 'Product_ID' column\n",
    "merged_data = pd.merge(data1, data2, on='Product_ID', how='inner')\n",
    "# Remove duplicates from the merged dataframe\n",
    "cleaned_data = merged_data.drop_duplicates()\n",
    "print(cleaned_data)"
   ]
  },
  {
   "cell_type": "code",
   "execution_count": 8,
   "id": "48dd0a8a-e00e-4a4c-84a6-2184d6f9046d",
   "metadata": {},
   "outputs": [
    {
     "name": "stdout",
     "output_type": "stream",
     "text": [
      "      Category  Sales\n",
      "0     Clothing    300\n",
      "1  Electronics    700\n",
      "2    Groceries    550\n"
     ]
    }
   ],
   "source": [
    "# Group by 'Category' and calculate total Sales for each category\n",
    "total_sales_by_category = data1.groupby('Category')['Sales'].sum().reset_index() \n",
    "print(total_sales_by_category)"
   ]
  },
  {
   "cell_type": "code",
   "execution_count": 10,
   "id": "72201c1a-5a0d-4c48-ad6d-aa1a48db2725",
   "metadata": {},
   "outputs": [
    {
     "name": "stdout",
     "output_type": "stream",
     "text": [
      "  Region  Price\n",
      "0   East   75.0\n",
      "1  North   62.5\n",
      "2  South   50.0\n",
      "3   West   30.0\n"
     ]
    }
   ],
   "source": [
    "# Group by 'Region' and calculate average Price for each region\n",
    "average_price_by_region = data1.groupby('Region')['Price'].mean().reset_index() \n",
    "print(average_price_by_region)"
   ]
  },
  {
   "cell_type": "code",
   "execution_count": 12,
   "id": "b476075c-fc47-489a-b739-5ea0abc35565",
   "metadata": {},
   "outputs": [
    {
     "name": "stdout",
     "output_type": "stream",
     "text": [
      "      Category  Product_ID\n",
      "0     Clothing           1\n",
      "1  Electronics           2\n",
      "2    Groceries           2\n"
     ]
    }
   ],
   "source": [
    "# Group by 'Category' and count unique Product_IDs \n",
    "unique_products_by_category = data1.groupby('Category')['Product_ID'].nunique().reset_index() \n",
    "print(unique_products_by_category)"
   ]
  },
  {
   "cell_type": "code",
   "execution_count": 14,
   "id": "c5667f8b-65da-42db-bf3d-99ff4001452c",
   "metadata": {},
   "outputs": [
    {
     "name": "stdout",
     "output_type": "stream",
     "text": [
      "      Category Region  Sales\n",
      "0     Clothing  South    300\n",
      "1  Electronics   East    200\n",
      "2  Electronics  North    500\n",
      "3    Groceries  North    150\n",
      "4    Groceries   West    400\n"
     ]
    }
   ],
   "source": [
    "# Group by 'Category' and 'Region' and calculate total Sales for each combination \n",
    "sales_by_category_region = data1.groupby(['Category', 'Region'])['Sales'].sum().reset_index() \n",
    "print(sales_by_category_region)"
   ]
  },
  {
   "cell_type": "code",
   "execution_count": 16,
   "id": "9af7b242-0ed8-43a6-9037-fe75732c78c5",
   "metadata": {},
   "outputs": [
    {
     "name": "stdout",
     "output_type": "stream",
     "text": [
      "  Store  min  max   mean\n",
      "0     A  250  700  475.0\n",
      "1     B  180  400  290.0\n",
      "2     C  500  500  500.0\n"
     ]
    }
   ],
   "source": [
    "# Group by 'Store' and calculate min, max, and average Revenue \n",
    "aggregated_data = data2.groupby('Store')['Revenue'].agg(['min', 'max', 'mean']).reset_index() \n",
    "print(aggregated_data)"
   ]
  },
  {
   "cell_type": "code",
   "execution_count": 18,
   "id": "6510b7ce-656c-4723-8f35-94af913b31c6",
   "metadata": {},
   "outputs": [
    {
     "name": "stdout",
     "output_type": "stream",
     "text": [
      "  Region  Total_Sales  Average_Price\n",
      "0   East          200           75.0\n",
      "1  North          650           62.5\n",
      "2  South          300           50.0\n",
      "3   West          400           30.0\n"
     ]
    }
   ],
   "source": [
    "# Group by 'Region' and calculate total Sales and average Price for each region\n",
    "aggregated_data = data1.groupby('Region').agg( Total_Sales=('Sales', 'sum'), Average_Price=('Price', 'mean') ).reset_index()\n",
    "print(aggregated_data)"
   ]
  },
  {
   "cell_type": "code",
   "execution_count": 20,
   "id": "f16dcc47-c3c0-4553-a43e-92f09d9568a7",
   "metadata": {},
   "outputs": [
    {
     "name": "stdout",
     "output_type": "stream",
     "text": [
      "      Category  Sales\n",
      "1  Electronics    700\n",
      "2    Groceries    550\n"
     ]
    }
   ],
   "source": [
    "# Filter to show only categories where total Sales exceeds 400 \n",
    "filtered_categories = total_sales_by_category[total_sales_by_category['Sales'] > 400] \n",
    "print(filtered_categories)"
   ]
  },
  {
   "cell_type": "code",
   "execution_count": 24,
   "id": "54735ed1-85b1-4af4-8130-5de27bb61532",
   "metadata": {},
   "outputs": [
    {
     "name": "stdout",
     "output_type": "stream",
     "text": [
      "      Category  Sales_Range\n",
      "0     Clothing            0\n",
      "1  Electronics          300\n",
      "2    Groceries          250\n"
     ]
    }
   ],
   "source": [
    "# Group by 'Category' and use a lambda function to calculate the range of Sales\n",
    "sales_range_by_category = data1.groupby('Category')['Sales'].agg(lambda x: x.max() - x.min()).reset_index() \n",
    "# Rename the column to reflect the calculated range\n",
    "sales_range_by_category = sales_range_by_category.rename(columns={'Sales': 'Sales_Range'})\n",
    "print(sales_range_by_category)"
   ]
  },
  {
   "cell_type": "code",
   "execution_count": 26,
   "id": "c11c9e06-7116-4bc7-91c6-63c78d81c7be",
   "metadata": {},
   "outputs": [
    {
     "name": "stdout",
     "output_type": "stream",
     "text": [
      "Region     Category   East  North  South   West\n",
      "0          Clothing    NaN    NaN  300.0    NaN\n",
      "1       Electronics  200.0  500.0    NaN    NaN\n",
      "2         Groceries    NaN  150.0    NaN  400.0\n"
     ]
    }
   ],
   "source": [
    "# Create a pivot table to show average Sales for each Category and Region\n",
    "pivot_table = data1.pivot_table(values='Sales', index='Category', columns='Region', aggfunc='mean').reset_index()\n",
    "print(pivot_table)"
   ]
  },
  {
   "cell_type": "code",
   "execution_count": 28,
   "id": "703618d0-113d-463d-a660-f5704bb11db8",
   "metadata": {},
   "outputs": [
    {
     "name": "stdout",
     "output_type": "stream",
     "text": [
      "  Region  Min_Price  Max_PPrice  Avg_Price\n",
      "0   East         75          75       75.0\n",
      "1  North         25         100       62.5\n",
      "2  South         50          50       50.0\n",
      "3   West         30          30       30.0\n"
     ]
    }
   ],
   "source": [
    "# Create a pivot table to show min, max, and average Price for each Region \n",
    "pivot_table = data1.pivot_table(values='Price', index='Region', aggfunc=['min', 'max', 'mean']).reset_index() \n",
    "# Rename the columns for better readability\n",
    "pivot_table.columns = ['Region', 'Min_Price', 'Max_PPrice', 'Avg_Price'] \n",
    "print(pivot_table)"
   ]
  },
  {
   "cell_type": "code",
   "execution_count": 30,
   "id": "9f83d81d-64cf-4b4f-b22a-59c665282a55",
   "metadata": {},
   "outputs": [
    {
     "name": "stdout",
     "output_type": "stream",
     "text": [
      "   Product_ID     Category Metric  Value\n",
      "0           1  Electronics  Price    100\n",
      "1           2     Clothing  Price     50\n",
      "2           3  Electronics  Price     75\n",
      "3           4    Groceries  Price     30\n",
      "4           5    Groceries  Price     25\n",
      "5           1  Electronics  Sales    500\n",
      "6           2     Clothing  Sales    300\n",
      "7           3  Electronics  Sales    200\n",
      "8           4    Groceries  Sales    400\n",
      "9           5    Groceries  Sales    150\n"
     ]
    }
   ],
   "source": [
    "# Use melt to reshape the data\n",
    "melted_data = pd.melt(data1, id_vars=['Product_ID', 'Category'], value_vars=['Price', 'Sales'], var_name='Metric', value_name='Value') \n",
    "print(melted_data)"
   ]
  },
  {
   "cell_type": "code",
   "execution_count": 34,
   "id": "02269ae2-f9ec-4a06-9f52-10561069ef37",
   "metadata": {},
   "outputs": [
    {
     "name": "stdout",
     "output_type": "stream",
     "text": [
      "Metric  Product_ID  Price  Sales\n",
      "0                1    100    500\n",
      "1                2     50    300\n",
      "2                3     75    200\n",
      "3                4     30    400\n",
      "4                5     25    150\n",
      "Metric  Product_ID     Category  Price  Sales\n",
      "0                1  Electronics    100    500\n",
      "1                2     Clothing     50    300\n",
      "2                3  Electronics     75    200\n",
      "3                4    Groceries     30    400\n",
      "4                5    Groceries     25    150\n"
     ]
    }
   ],
   "source": [
    "# Pivot to reshape back to wide format \n",
    "wide_data = melted_data.pivot(index='Product_ID', columns='Metric', values='Value').reset_index() \n",
    "# If you want to keep 'Category' as well, you can include it in the index \n",
    "wide_data_with_category = melted_data.pivot(index=['Product_ID', 'Category'], columns='Metric', values='Value').reset_index() \n",
    "print(wide_data) \n",
    "print(wide_data_with_category)"
   ]
  },
  {
   "cell_type": "code",
   "execution_count": 36,
   "id": "32afe4dc-f395-4a9d-81e8-09f906d0ba00",
   "metadata": {},
   "outputs": [
    {
     "name": "stdout",
     "output_type": "stream",
     "text": [
      "Store     Category      A      B      C\n",
      "0         Clothing    NaN  400.0    NaN\n",
      "1      Electronics  950.0    NaN    NaN\n",
      "2        Groceries    NaN  180.0  500.0\n"
     ]
    }
   ],
   "source": [
    "# Merge data1 and data2 on 'Product_ID'\n",
    "merged_data = pd.merge(data1, data2, on='Product_ID') \n",
    "# Create a pivot table to show total Revenue for each Category and Store\n",
    "pivot_table = merged_data.pivot_table(values='Revenue', index='Category', columns='Store', aggfunc='sum').reset_index()\n",
    "print(pivot_table)"
   ]
  },
  {
   "cell_type": "code",
   "execution_count": null,
   "id": "27cb8aec-d797-4e28-901c-c3418eeb9199",
   "metadata": {},
   "outputs": [],
   "source": []
  }
 ],
 "metadata": {
  "kernelspec": {
   "display_name": "Python 3 (ipykernel)",
   "language": "python",
   "name": "python3"
  },
  "language_info": {
   "codemirror_mode": {
    "name": "ipython",
    "version": 3
   },
   "file_extension": ".py",
   "mimetype": "text/x-python",
   "name": "python",
   "nbconvert_exporter": "python",
   "pygments_lexer": "ipython3",
   "version": "3.12.4"
  }
 },
 "nbformat": 4,
 "nbformat_minor": 5
}
