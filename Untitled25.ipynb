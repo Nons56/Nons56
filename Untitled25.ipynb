{
 "cells": [
  {
   "cell_type": "code",
   "execution_count": 6,
   "id": "80f97b06-17fd-4473-9c81-9c5a017489f4",
   "metadata": {},
   "outputs": [],
   "source": [
    "import numpy as np\n",
    "import pandas as pd\n",
    "import matplotlib.pyplot as plt\n",
    "import seaborn as sns\n"
   ]
  },
  {
   "cell_type": "code",
   "execution_count": 8,
   "id": "482e01b9-190e-4ed5-830c-82d039b3d56b",
   "metadata": {},
   "outputs": [],
   "source": [
    "\n",
    "youth_moratality_df = pd.read_csv(r\"C:\\Users\\Engr.NSamuel\\Desktop\\New folder\\1. youth-mortality-rate.csv\")\n",
    "number_deaths_unwpp_df = pd.read_csv(r\"C:\\Users\\Engr.NSamuel\\Desktop\\New folder\\2. number-of-infant-deaths-unwpp.csv\")\n",
    "child_mortality_by_income_df = pd.read_csv(r\"C:\\Users\\Engr.NSamuel\\Desktop\\New folder\\3. child-mortality-by-income-level-of-country.csv\")\n",
    "distribution_df = pd.read_csv(r\"C:\\Users\\Engr.NSamuel\\Desktop\\New folder\\4. Distribution of Causes of Death among Children Aged less than 5 years.csv\")\n",
    "number_of_death_df = pd.read_csv(r\"C:\\Users\\Engr.NSamuel\\Desktop\\New folder\\5. number-of-maternal-deaths-by-region.csv\")\n",
    "birth_attended_df = pd.read_csv(r\"C:\\Users\\Engr.NSamuel\\Desktop\\New folder\\6. births-attended-by-health-staff-sdgs.csv\")\n",
    "global_vaccination_df = pd.read_csv(r\"C:\\Users\\Engr.NSamuel\\Desktop\\New folder\\7. global-vaccination-coverage.csv\")\n",
    "health_protection_df = pd.read_csv(r\"C:\\Users\\Engr.NSamuel\\Desktop\\New folder\\8. health-protection-coverage.csv\")\n"
   ]
  },
  {
   "cell_type": "code",
   "execution_count": 48,
   "id": "59d0188e-bc54-4273-9758-37ca99753cfe",
   "metadata": {},
   "outputs": [
    {
     "data": {
      "text/plain": [
       "Entity                             0\n",
       "Code                            1023\n",
       "Year                               0\n",
       "Under-fifteen mortality rate       0\n",
       "dtype: int64"
      ]
     },
     "execution_count": 48,
     "metadata": {},
     "output_type": "execute_result"
    }
   ],
   "source": [
    "youth_moratality_df.isnull().sum()"
   ]
  },
  {
   "cell_type": "code",
   "execution_count": 50,
   "id": "70be32c4-6f10-4197-b9f5-c0e9a1ebbfb6",
   "metadata": {},
   "outputs": [
    {
     "data": {
      "text/plain": [
       "Entity                                                0\n",
       "Code                                               1332\n",
       "Year                                                  0\n",
       "Deaths - Sex: all - Age: 0 - Variant: estimates       0\n",
       "dtype: int64"
      ]
     },
     "execution_count": 50,
     "metadata": {},
     "output_type": "execute_result"
    }
   ],
   "source": [
    "number_deaths_unwpp_df.isnull().sum()"
   ]
  },
  {
   "cell_type": "code",
   "execution_count": 52,
   "id": "7a7ce058-36a9-45aa-ae78-87a27c03a8db",
   "metadata": {},
   "outputs": [
    {
     "data": {
      "text/plain": [
       "Entity                                                                                                                                             0\n",
       "Code                                                                                                                                            1358\n",
       "Year                                                                                                                                               0\n",
       "Observation value - Indicator: Under-five mortality rate - Sex: Total - Wealth quintile: Total - Unit of measure: Deaths per 100 live births       0\n",
       "dtype: int64"
      ]
     },
     "execution_count": 52,
     "metadata": {},
     "output_type": "execute_result"
    }
   ],
   "source": [
    "child_mortality_by_income_df.isnull().sum()\n"
   ]
  },
  {
   "cell_type": "code",
   "execution_count": 54,
   "id": "b38be561-ad76-45c6-859b-6c1b3e181d58",
   "metadata": {},
   "outputs": [
    {
     "data": {
      "text/plain": [
       "IndicatorCode                      0\n",
       "Indicator                          0\n",
       "ValueType                          0\n",
       "ParentLocationCode                 0\n",
       "ParentLocation                     0\n",
       "Location type                      0\n",
       "SpatialDimValueCode                0\n",
       "Location                           0\n",
       "Period type                        0\n",
       "Period                             0\n",
       "IsLatestYear                       0\n",
       "Dim1 type                          0\n",
       "Dim1                               0\n",
       "Dim1ValueCode                      0\n",
       "Dim2 type                          0\n",
       "Dim2                               0\n",
       "Dim2ValueCode                      0\n",
       "Dim3 type                     146664\n",
       "Dim3                          146664\n",
       "Dim3ValueCode                 146664\n",
       "DataSourceDimValueCode        146664\n",
       "DataSource                    146664\n",
       "FactValueNumericPrefix        146664\n",
       "FactValueNumeric                   0\n",
       "FactValueUoM                  146664\n",
       "FactValueNumericLowPrefix     146664\n",
       "FactValueNumericLow           146664\n",
       "FactValueNumericHighPrefix    146664\n",
       "FactValueNumericHigh          146664\n",
       "Value                              0\n",
       "FactValueTranslationID        146664\n",
       "FactComments                  146664\n",
       "Language                           0\n",
       "DateModified                       0\n",
       "dtype: int64"
      ]
     },
     "execution_count": 54,
     "metadata": {},
     "output_type": "execute_result"
    }
   ],
   "source": [
    "distribution_df.isnull().sum()"
   ]
  },
  {
   "cell_type": "code",
   "execution_count": 56,
   "id": "40edf292-b209-4f8a-8c9d-20686920d7a6",
   "metadata": {},
   "outputs": [
    {
     "data": {
      "text/plain": [
       "Entity                          0\n",
       "Code                          360\n",
       "Year                            0\n",
       "Estimated maternal deaths       0\n",
       "959828-annotations           7020\n",
       "dtype: int64"
      ]
     },
     "execution_count": 56,
     "metadata": {},
     "output_type": "execute_result"
    }
   ],
   "source": [
    "number_of_death_df.isnull().sum()"
   ]
  },
  {
   "cell_type": "code",
   "execution_count": 58,
   "id": "a1bbb42b-79ea-4d3a-8ada-6ff974db5004",
   "metadata": {},
   "outputs": [
    {
     "data": {
      "text/plain": [
       "Entity                                                   0\n",
       "Code                                                    42\n",
       "Year                                                     0\n",
       "Births attended by skilled health staff (% of total)     0\n",
       "dtype: int64"
      ]
     },
     "execution_count": 58,
     "metadata": {},
     "output_type": "execute_result"
    }
   ],
   "source": [
    "birth_attended_df.isnull().sum()"
   ]
  },
  {
   "cell_type": "code",
   "execution_count": 60,
   "id": "c8e9b102-c50a-4f32-9447-106fbd2a469a",
   "metadata": {},
   "outputs": [
    {
     "data": {
      "text/plain": [
       "Entity                                     0\n",
       "Code                                     252\n",
       "Year                                       0\n",
       "BCG (% of one-year-olds immunized)      1400\n",
       "HepB3 (% of one-year-olds immunized)    3461\n",
       "Hib3 (% of one-year-olds immunized)     4268\n",
       "IPV1 (% of one-year-olds immunized)     6600\n",
       "MCV1 (% of one-year-olds immunized)      169\n",
       "PCV3 (% of one-year-olds immunized)     6400\n",
       "Pol3 (% of one-year-olds immunized)       42\n",
       "RCV1 (% of one-year-olds immunized)     3699\n",
       "RotaC (% of one-year-olds immunized)    6858\n",
       "YFV (% of one-year-olds immunized)      7073\n",
       "DTP3 (% of one-year-olds immunized)       43\n",
       "dtype: int64"
      ]
     },
     "execution_count": 60,
     "metadata": {},
     "output_type": "execute_result"
    }
   ],
   "source": [
    "global_vaccination_df.isnull().sum()"
   ]
  },
  {
   "cell_type": "code",
   "execution_count": 62,
   "id": "1c38f818-e1b8-4063-98e7-77d66a74ebe4",
   "metadata": {},
   "outputs": [
    {
     "data": {
      "text/plain": [
       "Entity                                                          0\n",
       "Code                                                            0\n",
       "Year                                                            0\n",
       "Share of population covered by health insurance (ILO (2014))    0\n",
       "dtype: int64"
      ]
     },
     "execution_count": 62,
     "metadata": {},
     "output_type": "execute_result"
    }
   ],
   "source": [
    "health_protection_df.isnull().sum()"
   ]
  },
  {
   "cell_type": "code",
   "execution_count": 55,
   "id": "c40550ab-e6cc-4b1a-b403-2f903e786b87",
   "metadata": {},
   "outputs": [
    {
     "name": "stdout",
     "output_type": "stream",
     "text": [
      "Correlation between health protection and child mortality by income: -0.7265834177363101\n"
     ]
    }
   ],
   "source": [
    "# Merge health protection and child mortality by income data\n",
    "merged_df = pd.merge(health_protection_df, child_mortality_by_income_df, on=['Entity', 'Year'], how='inner')\n",
    "\n",
    "# Calculate correlation\n",
    "correlation = merged_df['Share of population covered by health insurance (ILO (2014))'].corr(merged_df['Observation value - Indicator: Under-five mortality rate - Sex: Total - Wealth quintile: Total - Unit of measure: Deaths per 100 live births'])\n",
    "print(f'Correlation between health protection and child mortality by income: {correlation}')\n"
   ]
  },
  {
   "cell_type": "code",
   "execution_count": 22,
   "id": "facb3d59-31e0-488e-b034-7d55e50b7be6",
   "metadata": {},
   "outputs": [
    {
     "name": "stdout",
     "output_type": "stream",
     "text": [
      "count    6497.000000\n",
      "mean       84.010312\n",
      "std        20.009474\n",
      "min         0.000000\n",
      "25%        79.000000\n",
      "50%        92.000000\n",
      "75%        98.000000\n",
      "max        99.000000\n",
      "Name: BCG (% of one-year-olds immunized), dtype: float64\n"
     ]
    }
   ],
   "source": [
    "# Summary statistics for vaccination coverage (example: BCG vaccine)\n",
    "bcg_vaccination_stats = global_vaccination_df['BCG (% of one-year-olds immunized)'].describe()\n",
    "print(bcg_vaccination_stats)\n",
    "\n",
    "\n",
    "\n"
   ]
  },
  {
   "cell_type": "code",
   "execution_count": 57,
   "id": "af8f04b3-fa4b-4ffa-aaca-3635af8f5fff",
   "metadata": {},
   "outputs": [
    {
     "name": "stdout",
     "output_type": "stream",
     "text": [
      "              Year  BCG (% of one-year-olds immunized)  \\\n",
      "count  7897.000000                         6497.000000   \n",
      "mean   2001.586299                           84.010312   \n",
      "std      11.769320                           20.009474   \n",
      "min    1980.000000                            0.000000   \n",
      "25%    1992.000000                           79.000000   \n",
      "50%    2002.000000                           92.000000   \n",
      "75%    2012.000000                           98.000000   \n",
      "max    2021.000000                           99.000000   \n",
      "\n",
      "       HepB3 (% of one-year-olds immunized)  \\\n",
      "count                           4436.000000   \n",
      "mean                              82.326195   \n",
      "std                               21.924247   \n",
      "min                                0.000000   \n",
      "25%                               77.000000   \n",
      "50%                               91.000000   \n",
      "75%                               96.000000   \n",
      "max                               99.000000   \n",
      "\n",
      "       Hib3 (% of one-year-olds immunized)  \\\n",
      "count                          3629.000000   \n",
      "mean                             83.148250   \n",
      "std                              22.032865   \n",
      "min                               0.000000   \n",
      "25%                              80.000000   \n",
      "50%                              92.000000   \n",
      "75%                              96.000000   \n",
      "max                              99.000000   \n",
      "\n",
      "       IPV1 (% of one-year-olds immunized)  \\\n",
      "count                          1297.000000   \n",
      "mean                             82.730146   \n",
      "std                              22.685340   \n",
      "min                               0.000000   \n",
      "25%                              76.000000   \n",
      "50%                              94.000000   \n",
      "75%                              98.000000   \n",
      "max                              99.000000   \n",
      "\n",
      "       MCV1 (% of one-year-olds immunized)  \\\n",
      "count                          7728.000000   \n",
      "mean                             78.443323   \n",
      "std                              21.895398   \n",
      "min                               0.000000   \n",
      "25%                              68.000000   \n",
      "50%                              87.000000   \n",
      "75%                              95.000000   \n",
      "max                              99.000000   \n",
      "\n",
      "       PCV3 (% of one-year-olds immunized)  \\\n",
      "count                          1497.000000   \n",
      "mean                             77.035404   \n",
      "std                              24.897693   \n",
      "min                               0.000000   \n",
      "25%                              69.000000   \n",
      "50%                              87.000000   \n",
      "75%                              94.000000   \n",
      "max                              99.000000   \n",
      "\n",
      "       Pol3 (% of one-year-olds immunized)  \\\n",
      "count                          7855.000000   \n",
      "mean                             80.095226   \n",
      "std                              22.114550   \n",
      "min                               0.000000   \n",
      "25%                              72.000000   \n",
      "50%                              89.000000   \n",
      "75%                              96.000000   \n",
      "max                              99.000000   \n",
      "\n",
      "       RCV1 (% of one-year-olds immunized)  \\\n",
      "count                          4198.000000   \n",
      "mean                             85.676513   \n",
      "std                              21.010275   \n",
      "min                               0.000000   \n",
      "25%                              85.000000   \n",
      "50%                              93.000000   \n",
      "75%                              97.000000   \n",
      "max                              99.000000   \n",
      "\n",
      "       RotaC (% of one-year-olds immunized)  \\\n",
      "count                           1039.000000   \n",
      "mean                              69.495669   \n",
      "std                               28.137731   \n",
      "min                                0.000000   \n",
      "25%                               58.000000   \n",
      "50%                               80.000000   \n",
      "75%                               90.000000   \n",
      "max                               99.000000   \n",
      "\n",
      "       YFV (% of one-year-olds immunized)  DTP3 (% of one-year-olds immunized)  \n",
      "count                          824.000000                          7854.000000  \n",
      "mean                            54.274272                            79.543672  \n",
      "std                             28.903746                            22.220256  \n",
      "min                              0.000000                             1.000000  \n",
      "25%                             35.000000                            71.000000  \n",
      "50%                             60.000000                            88.000000  \n",
      "75%                             79.250000                            96.000000  \n",
      "max                             99.000000                            99.000000  \n"
     ]
    }
   ],
   "source": [
    "# Descriptive statistics for vaccination coverage\n",
    "vaccination_stats = global_vaccination_df.describe()\n",
    "print(vaccination_stats)\n"
   ]
  },
  {
   "cell_type": "code",
   "execution_count": 26,
   "id": "f0647d29-7e2c-4abb-a52a-674e71d07cb0",
   "metadata": {},
   "outputs": [
    {
     "name": "stdout",
     "output_type": "stream",
     "text": [
      "count    10515.000000\n",
      "mean         6.407323\n",
      "std          6.958859\n",
      "min          0.190339\n",
      "25%          1.670638\n",
      "50%          3.532842\n",
      "75%          8.704788\n",
      "max         59.586483\n",
      "Name: Under-fifteen mortality rate, dtype: float64\n"
     ]
    }
   ],
   "source": [
    "# Summary statistics \n",
    "stats = youth_moratality_df['Under-fifteen mortality rate'].describe()\n",
    "print(stats)\n"
   ]
  },
  {
   "cell_type": "code",
   "execution_count": 54,
   "id": "bccdef5f-3738-454f-9e96-f08947e5ef22",
   "metadata": {},
   "outputs": [
    {
     "name": "stdout",
     "output_type": "stream",
     "text": [
      "      Estimated maternal deaths  Year\n",
      "1301                   6.083787  3998\n",
      "4521                 582.329000  2020\n",
      "4654                 677.486760  2020\n",
      "861                    3.968566  2020\n",
      "5604                2451.514200  2020\n",
      "...                         ...   ...\n",
      "5209                1480.427500  1985\n",
      "6905              136271.380000  1985\n",
      "2793                  49.859190  1985\n",
      "1460                   7.169302  1985\n",
      "7054              578245.900000  1985\n",
      "\n",
      "[7055 rows x 2 columns]\n"
     ]
    }
   ],
   "source": [
    "# Group by cause of death and calculate the total number of deaths for each cause\n",
    "causes_summary = number_of_death_df.groupby('Estimated maternal deaths')['Year'].sum().reset_index()\n",
    "\n",
    "# Sort the summary by the total number of deaths in descending order\n",
    "causes_summary = causes_summary.sort_values(by='Year', ascending=False)\n",
    "\n",
    "print(causes_summary)\n"
   ]
  },
  {
   "cell_type": "code",
   "execution_count": 77,
   "id": "51376cda-53a7-444c-b803-9ff0b1503153",
   "metadata": {},
   "outputs": [
    {
     "data": {
      "image/png": "[encoded data removed]",
      "text/plain": [
       "<Figure size 640x480 with 1 Axes>"
      ]
     },
     "metadata": {},
     "output_type": "display_data"
    }
   ],
   "source": [
    "# Bar plot for BCG vaccination coverage\n",
    "global_vaccination_df.plot(x='Entity', y='BCG (% of one-year-olds immunized)', kind='hist')\n",
    "plt.title('BCG Vaccination Coverage')\n",
    "plt.xlabel('Country')\n",
    "plt.ylabel('Percentage')\n",
    "plt.show()\n",
    "\n"
   ]
  }
 ],
 "metadata": {
  "kernelspec": {
   "display_name": "Python 3 (ipykernel)",
   "language": "python",
   "name": "python3"
  },
  "language_info": {
   "codemirror_mode": {
    "name": "ipython",
    "version": 3
   },
   "file_extension": ".py",
   "mimetype": "text/x-python",
   "name": "python",
   "nbconvert_exporter": "python",
   "pygments_lexer": "ipython3",
   "version": "3.12.4"
  }
 },
 "nbformat": 4,
 "nbformat_minor": 5
}
